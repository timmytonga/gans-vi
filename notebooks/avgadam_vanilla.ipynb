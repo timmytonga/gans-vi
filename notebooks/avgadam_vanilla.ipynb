{
  "nbformat": 4,
  "nbformat_minor": 0,
  "metadata": {
    "accelerator": "GPU",
    "colab": {
      "name": "avgadam_experiment.ipynb",
      "provenance": [],
      "collapsed_sections": []
    },
    "kernelspec": {
      "display_name": "Python 3",
      "name": "python3"
    },
    "widgets": {
      "application/vnd.jupyter.widget-state+json": {
        "35d60d2d166b4268962661d32a5f62f2": {
          "model_module": "@jupyter-widgets/controls",
          "model_name": "HBoxModel",
          "state": {
            "_view_name": "HBoxView",
            "_dom_classes": [],
            "_model_name": "HBoxModel",
            "_view_module": "@jupyter-widgets/controls",
            "_model_module_version": "1.5.0",
            "_view_count": null,
            "_view_module_version": "1.5.0",
            "box_style": "",
            "layout": "IPY_MODEL_94126cd491fb4a27ae0252d68222f23b",
            "_model_module": "@jupyter-widgets/controls",
            "children": [
              "IPY_MODEL_0b15874848dd45b9aeca8a567aa6e3dd",
              "IPY_MODEL_2ee556d2b2c64e998d610b3f97ca9545"
            ]
          }
        },
        "94126cd491fb4a27ae0252d68222f23b": {
          "model_module": "@jupyter-widgets/base",
          "model_name": "LayoutModel",
          "state": {
            "_view_name": "LayoutView",
            "grid_template_rows": null,
            "right": null,
            "justify_content": null,
            "_view_module": "@jupyter-widgets/base",
            "overflow": null,
            "_model_module_version": "1.2.0",
            "_view_count": null,
            "flex_flow": null,
            "width": null,
            "min_width": null,
            "border": null,
            "align_items": null,
            "bottom": null,
            "_model_module": "@jupyter-widgets/base",
            "top": null,
            "grid_column": null,
            "overflow_y": null,
            "overflow_x": null,
            "grid_auto_flow": null,
            "grid_area": null,
            "grid_template_columns": null,
            "flex": null,
            "_model_name": "LayoutModel",
            "justify_items": null,
            "grid_row": null,
            "max_height": null,
            "align_content": null,
            "visibility": null,
            "align_self": null,
            "height": null,
            "min_height": null,
            "padding": null,
            "grid_auto_rows": null,
            "grid_gap": null,
            "max_width": null,
            "order": null,
            "_view_module_version": "1.2.0",
            "grid_template_areas": null,
            "object_position": null,
            "object_fit": null,
            "grid_auto_columns": null,
            "margin": null,
            "display": null,
            "left": null
          }
        },
        "0b15874848dd45b9aeca8a567aa6e3dd": {
          "model_module": "@jupyter-widgets/controls",
          "model_name": "FloatProgressModel",
          "state": {
            "_view_name": "ProgressView",
            "style": "IPY_MODEL_b037cdec5f9949c19e9664f54fb57930",
            "_dom_classes": [],
            "description": "",
            "_model_name": "FloatProgressModel",
            "bar_style": "info",
            "max": 1,
            "_view_module": "@jupyter-widgets/controls",
            "_model_module_version": "1.5.0",
            "value": 1,
            "_view_count": null,
            "_view_module_version": "1.5.0",
            "orientation": "horizontal",
            "min": 0,
            "description_tooltip": null,
            "_model_module": "@jupyter-widgets/controls",
            "layout": "IPY_MODEL_88f3d516a9664eee83e8394364c658d9"
          }
        },
        "2ee556d2b2c64e998d610b3f97ca9545": {
          "model_module": "@jupyter-widgets/controls",
          "model_name": "HTMLModel",
          "state": {
            "_view_name": "HTMLView",
            "style": "IPY_MODEL_a5d58f1216834ce987e1392d486b797e",
            "_dom_classes": [],
            "description": "",
            "_model_name": "HTMLModel",
            "placeholder": "​",
            "_view_module": "@jupyter-widgets/controls",
            "_model_module_version": "1.5.0",
            "value": " 170500096/? [00:30&lt;00:00, 16540031.84it/s]",
            "_view_count": null,
            "_view_module_version": "1.5.0",
            "description_tooltip": null,
            "_model_module": "@jupyter-widgets/controls",
            "layout": "IPY_MODEL_0dac7f3c2d9148b38c792f3403ee0716"
          }
        },
        "b037cdec5f9949c19e9664f54fb57930": {
          "model_module": "@jupyter-widgets/controls",
          "model_name": "ProgressStyleModel",
          "state": {
            "_view_name": "StyleView",
            "_model_name": "ProgressStyleModel",
            "description_width": "initial",
            "_view_module": "@jupyter-widgets/base",
            "_model_module_version": "1.5.0",
            "_view_count": null,
            "_view_module_version": "1.2.0",
            "bar_color": null,
            "_model_module": "@jupyter-widgets/controls"
          }
        },
        "88f3d516a9664eee83e8394364c658d9": {
          "model_module": "@jupyter-widgets/base",
          "model_name": "LayoutModel",
          "state": {
            "_view_name": "LayoutView",
            "grid_template_rows": null,
            "right": null,
            "justify_content": null,
            "_view_module": "@jupyter-widgets/base",
            "overflow": null,
            "_model_module_version": "1.2.0",
            "_view_count": null,
            "flex_flow": null,
            "width": null,
            "min_width": null,
            "border": null,
            "align_items": null,
            "bottom": null,
            "_model_module": "@jupyter-widgets/base",
            "top": null,
            "grid_column": null,
            "overflow_y": null,
            "overflow_x": null,
            "grid_auto_flow": null,
            "grid_area": null,
            "grid_template_columns": null,
            "flex": null,
            "_model_name": "LayoutModel",
            "justify_items": null,
            "grid_row": null,
            "max_height": null,
            "align_content": null,
            "visibility": null,
            "align_self": null,
            "height": null,
            "min_height": null,
            "padding": null,
            "grid_auto_rows": null,
            "grid_gap": null,
            "max_width": null,
            "order": null,
            "_view_module_version": "1.2.0",
            "grid_template_areas": null,
            "object_position": null,
            "object_fit": null,
            "grid_auto_columns": null,
            "margin": null,
            "display": null,
            "left": null
          }
        },
        "a5d58f1216834ce987e1392d486b797e": {
          "model_module": "@jupyter-widgets/controls",
          "model_name": "DescriptionStyleModel",
          "state": {
            "_view_name": "StyleView",
            "_model_name": "DescriptionStyleModel",
            "description_width": "",
            "_view_module": "@jupyter-widgets/base",
            "_model_module_version": "1.5.0",
            "_view_count": null,
            "_view_module_version": "1.2.0",
            "_model_module": "@jupyter-widgets/controls"
          }
        },
        "0dac7f3c2d9148b38c792f3403ee0716": {
          "model_module": "@jupyter-widgets/base",
          "model_name": "LayoutModel",
          "state": {
            "_view_name": "LayoutView",
            "grid_template_rows": null,
            "right": null,
            "justify_content": null,
            "_view_module": "@jupyter-widgets/base",
            "overflow": null,
            "_model_module_version": "1.2.0",
            "_view_count": null,
            "flex_flow": null,
            "width": null,
            "min_width": null,
            "border": null,
            "align_items": null,
            "bottom": null,
            "_model_module": "@jupyter-widgets/base",
            "top": null,
            "grid_column": null,
            "overflow_y": null,
            "overflow_x": null,
            "grid_auto_flow": null,
            "grid_area": null,
            "grid_template_columns": null,
            "flex": null,
            "_model_name": "LayoutModel",
            "justify_items": null,
            "grid_row": null,
            "max_height": null,
            "align_content": null,
            "visibility": null,
            "align_self": null,
            "height": null,
            "min_height": null,
            "padding": null,
            "grid_auto_rows": null,
            "grid_gap": null,
            "max_width": null,
            "order": null,
            "_view_module_version": "1.2.0",
            "grid_template_areas": null,
            "object_position": null,
            "object_fit": null,
            "grid_auto_columns": null,
            "margin": null,
            "display": null,
            "left": null
          }
        },
        "b05c91f107bc400589b45fe6d8e6958e": {
          "model_module": "@jupyter-widgets/controls",
          "model_name": "HBoxModel",
          "state": {
            "_view_name": "HBoxView",
            "_dom_classes": [],
            "_model_name": "HBoxModel",
            "_view_module": "@jupyter-widgets/controls",
            "_model_module_version": "1.5.0",
            "_view_count": null,
            "_view_module_version": "1.5.0",
            "box_style": "",
            "layout": "IPY_MODEL_6c171150eeef4b73aa862a41d981ead2",
            "_model_module": "@jupyter-widgets/controls",
            "children": [
              "IPY_MODEL_23cb4226d8924bfe86c0a7151d57649c",
              "IPY_MODEL_9008a2807a514b9a9c192c430d00c436"
            ]
          }
        },
        "6c171150eeef4b73aa862a41d981ead2": {
          "model_module": "@jupyter-widgets/base",
          "model_name": "LayoutModel",
          "state": {
            "_view_name": "LayoutView",
            "grid_template_rows": null,
            "right": null,
            "justify_content": null,
            "_view_module": "@jupyter-widgets/base",
            "overflow": null,
            "_model_module_version": "1.2.0",
            "_view_count": null,
            "flex_flow": null,
            "width": null,
            "min_width": null,
            "border": null,
            "align_items": null,
            "bottom": null,
            "_model_module": "@jupyter-widgets/base",
            "top": null,
            "grid_column": null,
            "overflow_y": null,
            "overflow_x": null,
            "grid_auto_flow": null,
            "grid_area": null,
            "grid_template_columns": null,
            "flex": null,
            "_model_name": "LayoutModel",
            "justify_items": null,
            "grid_row": null,
            "max_height": null,
            "align_content": null,
            "visibility": null,
            "align_self": null,
            "height": null,
            "min_height": null,
            "padding": null,
            "grid_auto_rows": null,
            "grid_gap": null,
            "max_width": null,
            "order": null,
            "_view_module_version": "1.2.0",
            "grid_template_areas": null,
            "object_position": null,
            "object_fit": null,
            "grid_auto_columns": null,
            "margin": null,
            "display": null,
            "left": null
          }
        },
        "23cb4226d8924bfe86c0a7151d57649c": {
          "model_module": "@jupyter-widgets/controls",
          "model_name": "FloatProgressModel",
          "state": {
            "_view_name": "ProgressView",
            "style": "IPY_MODEL_e74cb296f4ca4d2799fb7778c766e2a7",
            "_dom_classes": [],
            "description": "100%",
            "_model_name": "FloatProgressModel",
            "bar_style": "success",
            "max": 108857766,
            "_view_module": "@jupyter-widgets/controls",
            "_model_module_version": "1.5.0",
            "value": 108857766,
            "_view_count": null,
            "_view_module_version": "1.5.0",
            "orientation": "horizontal",
            "min": 0,
            "description_tooltip": null,
            "_model_module": "@jupyter-widgets/controls",
            "layout": "IPY_MODEL_9679da8389084744a4180c8bd31fa317"
          }
        },
        "9008a2807a514b9a9c192c430d00c436": {
          "model_module": "@jupyter-widgets/controls",
          "model_name": "HTMLModel",
          "state": {
            "_view_name": "HTMLView",
            "style": "IPY_MODEL_aaf4dd8ed0734743ab419b994d56a105",
            "_dom_classes": [],
            "description": "",
            "_model_name": "HTMLModel",
            "placeholder": "​",
            "_view_module": "@jupyter-widgets/controls",
            "_model_module_version": "1.5.0",
            "value": " 104M/104M [00:02&lt;00:00, 47.6MB/s]",
            "_view_count": null,
            "_view_module_version": "1.5.0",
            "description_tooltip": null,
            "_model_module": "@jupyter-widgets/controls",
            "layout": "IPY_MODEL_4b7a2dd6ac0944aba45ac1bb5de6994f"
          }
        },
        "e74cb296f4ca4d2799fb7778c766e2a7": {
          "model_module": "@jupyter-widgets/controls",
          "model_name": "ProgressStyleModel",
          "state": {
            "_view_name": "StyleView",
            "_model_name": "ProgressStyleModel",
            "description_width": "initial",
            "_view_module": "@jupyter-widgets/base",
            "_model_module_version": "1.5.0",
            "_view_count": null,
            "_view_module_version": "1.2.0",
            "bar_color": null,
            "_model_module": "@jupyter-widgets/controls"
          }
        },
        "9679da8389084744a4180c8bd31fa317": {
          "model_module": "@jupyter-widgets/base",
          "model_name": "LayoutModel",
          "state": {
            "_view_name": "LayoutView",
            "grid_template_rows": null,
            "right": null,
            "justify_content": null,
            "_view_module": "@jupyter-widgets/base",
            "overflow": null,
            "_model_module_version": "1.2.0",
            "_view_count": null,
            "flex_flow": null,
            "width": null,
            "min_width": null,
            "border": null,
            "align_items": null,
            "bottom": null,
            "_model_module": "@jupyter-widgets/base",
            "top": null,
            "grid_column": null,
            "overflow_y": null,
            "overflow_x": null,
            "grid_auto_flow": null,
            "grid_area": null,
            "grid_template_columns": null,
            "flex": null,
            "_model_name": "LayoutModel",
            "justify_items": null,
            "grid_row": null,
            "max_height": null,
            "align_content": null,
            "visibility": null,
            "align_self": null,
            "height": null,
            "min_height": null,
            "padding": null,
            "grid_auto_rows": null,
            "grid_gap": null,
            "max_width": null,
            "order": null,
            "_view_module_version": "1.2.0",
            "grid_template_areas": null,
            "object_position": null,
            "object_fit": null,
            "grid_auto_columns": null,
            "margin": null,
            "display": null,
            "left": null
          }
        },
        "aaf4dd8ed0734743ab419b994d56a105": {
          "model_module": "@jupyter-widgets/controls",
          "model_name": "DescriptionStyleModel",
          "state": {
            "_view_name": "StyleView",
            "_model_name": "DescriptionStyleModel",
            "description_width": "",
            "_view_module": "@jupyter-widgets/base",
            "_model_module_version": "1.5.0",
            "_view_count": null,
            "_view_module_version": "1.2.0",
            "_model_module": "@jupyter-widgets/controls"
          }
        },
        "4b7a2dd6ac0944aba45ac1bb5de6994f": {
          "model_module": "@jupyter-widgets/base",
          "model_name": "LayoutModel",
          "state": {
            "_view_name": "LayoutView",
            "grid_template_rows": null,
            "right": null,
            "justify_content": null,
            "_view_module": "@jupyter-widgets/base",
            "overflow": null,
            "_model_module_version": "1.2.0",
            "_view_count": null,
            "flex_flow": null,
            "width": null,
            "min_width": null,
            "border": null,
            "align_items": null,
            "bottom": null,
            "_model_module": "@jupyter-widgets/base",
            "top": null,
            "grid_column": null,
            "overflow_y": null,
            "overflow_x": null,
            "grid_auto_flow": null,
            "grid_area": null,
            "grid_template_columns": null,
            "flex": null,
            "_model_name": "LayoutModel",
            "justify_items": null,
            "grid_row": null,
            "max_height": null,
            "align_content": null,
            "visibility": null,
            "align_self": null,
            "height": null,
            "min_height": null,
            "padding": null,
            "grid_auto_rows": null,
            "grid_gap": null,
            "max_width": null,
            "order": null,
            "_view_module_version": "1.2.0",
            "grid_template_areas": null,
            "object_position": null,
            "object_fit": null,
            "grid_auto_columns": null,
            "margin": null,
            "display": null,
            "left": null
          }
        },
        "30ac01f8fd944ca9a598bba8b5717b38": {
          "model_module": "@jupyter-widgets/controls",
          "model_name": "HBoxModel",
          "state": {
            "_view_name": "HBoxView",
            "_dom_classes": [],
            "_model_name": "HBoxModel",
            "_view_module": "@jupyter-widgets/controls",
            "_model_module_version": "1.5.0",
            "_view_count": null,
            "_view_module_version": "1.5.0",
            "box_style": "",
            "layout": "IPY_MODEL_143d05d521d3483e8b50eb0e2135d1cc",
            "_model_module": "@jupyter-widgets/controls",
            "children": [
              "IPY_MODEL_52fb63849f3745699be513665fe30f77",
              "IPY_MODEL_ca636ff771864f4fb9d426a097550ffb"
            ]
          }
        },
        "143d05d521d3483e8b50eb0e2135d1cc": {
          "model_module": "@jupyter-widgets/base",
          "model_name": "LayoutModel",
          "state": {
            "_view_name": "LayoutView",
            "grid_template_rows": null,
            "right": null,
            "justify_content": null,
            "_view_module": "@jupyter-widgets/base",
            "overflow": null,
            "_model_module_version": "1.2.0",
            "_view_count": null,
            "flex_flow": null,
            "width": null,
            "min_width": null,
            "border": null,
            "align_items": null,
            "bottom": null,
            "_model_module": "@jupyter-widgets/base",
            "top": null,
            "grid_column": null,
            "overflow_y": null,
            "overflow_x": null,
            "grid_auto_flow": null,
            "grid_area": null,
            "grid_template_columns": null,
            "flex": null,
            "_model_name": "LayoutModel",
            "justify_items": null,
            "grid_row": null,
            "max_height": null,
            "align_content": null,
            "visibility": null,
            "align_self": null,
            "height": null,
            "min_height": null,
            "padding": null,
            "grid_auto_rows": null,
            "grid_gap": null,
            "max_width": null,
            "order": null,
            "_view_module_version": "1.2.0",
            "grid_template_areas": null,
            "object_position": null,
            "object_fit": null,
            "grid_auto_columns": null,
            "margin": null,
            "display": null,
            "left": null
          }
        },
        "52fb63849f3745699be513665fe30f77": {
          "model_module": "@jupyter-widgets/controls",
          "model_name": "FloatProgressModel",
          "state": {
            "_view_name": "ProgressView",
            "style": "IPY_MODEL_f1df1ebde33f4d9f8c0d265d364f4f8e",
            "_dom_classes": [],
            "description": " 80%",
            "_model_name": "FloatProgressModel",
            "bar_style": "danger",
            "max": 782,
            "_view_module": "@jupyter-widgets/controls",
            "_model_module_version": "1.5.0",
            "value": 627,
            "_view_count": null,
            "_view_module_version": "1.5.0",
            "orientation": "horizontal",
            "min": 0,
            "description_tooltip": null,
            "_model_module": "@jupyter-widgets/controls",
            "layout": "IPY_MODEL_35b054c9c31847e3aac7727893d576df"
          }
        },
        "ca636ff771864f4fb9d426a097550ffb": {
          "model_module": "@jupyter-widgets/controls",
          "model_name": "HTMLModel",
          "state": {
            "_view_name": "HTMLView",
            "style": "IPY_MODEL_1b00b9d8509b43d3b3d64baf12020d22",
            "_dom_classes": [],
            "description": "",
            "_model_name": "HTMLModel",
            "placeholder": "​",
            "_view_module": "@jupyter-widgets/controls",
            "_model_module_version": "1.5.0",
            "value": " 627/782 [05:51&lt;01:27,  1.78it/s]",
            "_view_count": null,
            "_view_module_version": "1.5.0",
            "description_tooltip": null,
            "_model_module": "@jupyter-widgets/controls",
            "layout": "IPY_MODEL_c336033eb69844f6b3c48f188937bd3a"
          }
        },
        "f1df1ebde33f4d9f8c0d265d364f4f8e": {
          "model_module": "@jupyter-widgets/controls",
          "model_name": "ProgressStyleModel",
          "state": {
            "_view_name": "StyleView",
            "_model_name": "ProgressStyleModel",
            "description_width": "initial",
            "_view_module": "@jupyter-widgets/base",
            "_model_module_version": "1.5.0",
            "_view_count": null,
            "_view_module_version": "1.2.0",
            "bar_color": null,
            "_model_module": "@jupyter-widgets/controls"
          }
        },
        "35b054c9c31847e3aac7727893d576df": {
          "model_module": "@jupyter-widgets/base",
          "model_name": "LayoutModel",
          "state": {
            "_view_name": "LayoutView",
            "grid_template_rows": null,
            "right": null,
            "justify_content": null,
            "_view_module": "@jupyter-widgets/base",
            "overflow": null,
            "_model_module_version": "1.2.0",
            "_view_count": null,
            "flex_flow": null,
            "width": null,
            "min_width": null,
            "border": null,
            "align_items": null,
            "bottom": null,
            "_model_module": "@jupyter-widgets/base",
            "top": null,
            "grid_column": null,
            "overflow_y": null,
            "overflow_x": null,
            "grid_auto_flow": null,
            "grid_area": null,
            "grid_template_columns": null,
            "flex": null,
            "_model_name": "LayoutModel",
            "justify_items": null,
            "grid_row": null,
            "max_height": null,
            "align_content": null,
            "visibility": null,
            "align_self": null,
            "height": null,
            "min_height": null,
            "padding": null,
            "grid_auto_rows": null,
            "grid_gap": null,
            "max_width": null,
            "order": null,
            "_view_module_version": "1.2.0",
            "grid_template_areas": null,
            "object_position": null,
            "object_fit": null,
            "grid_auto_columns": null,
            "margin": null,
            "display": null,
            "left": null
          }
        },
        "1b00b9d8509b43d3b3d64baf12020d22": {
          "model_module": "@jupyter-widgets/controls",
          "model_name": "DescriptionStyleModel",
          "state": {
            "_view_name": "StyleView",
            "_model_name": "DescriptionStyleModel",
            "description_width": "",
            "_view_module": "@jupyter-widgets/base",
            "_model_module_version": "1.5.0",
            "_view_count": null,
            "_view_module_version": "1.2.0",
            "_model_module": "@jupyter-widgets/controls"
          }
        },
        "c336033eb69844f6b3c48f188937bd3a": {
          "model_module": "@jupyter-widgets/base",
          "model_name": "LayoutModel",
          "state": {
            "_view_name": "LayoutView",
            "grid_template_rows": null,
            "right": null,
            "justify_content": null,
            "_view_module": "@jupyter-widgets/base",
            "overflow": null,
            "_model_module_version": "1.2.0",
            "_view_count": null,
            "flex_flow": null,
            "width": null,
            "min_width": null,
            "border": null,
            "align_items": null,
            "bottom": null,
            "_model_module": "@jupyter-widgets/base",
            "top": null,
            "grid_column": null,
            "overflow_y": null,
            "overflow_x": null,
            "grid_auto_flow": null,
            "grid_area": null,
            "grid_template_columns": null,
            "flex": null,
            "_model_name": "LayoutModel",
            "justify_items": null,
            "grid_row": null,
            "max_height": null,
            "align_content": null,
            "visibility": null,
            "align_self": null,
            "height": null,
            "min_height": null,
            "padding": null,
            "grid_auto_rows": null,
            "grid_gap": null,
            "max_width": null,
            "order": null,
            "_view_module_version": "1.2.0",
            "grid_template_areas": null,
            "object_position": null,
            "object_fit": null,
            "grid_auto_columns": null,
            "margin": null,
            "display": null,
            "left": null
          }
        }
      }
    }
  },
  "cells": [
    {
      "cell_type": "markdown",
      "metadata": {
        "id": "6mZ8xON9eD5V"
      },
      "source": [
        "**CS6140 Final project: DCGAN with WGAN-GP trainer**"
      ]
    },
    {
      "cell_type": "markdown",
      "metadata": {
        "id": "FVv4Q0gTYlCH"
      },
      "source": [
        "# Import and defining classes"
      ]
    },
    {
      "cell_type": "code",
      "metadata": {
        "colab": {
          "base_uri": "https://localhost:8080/"
        },
        "id": "O9XKlZOlm2b0",
        "outputId": "07e0ba72-3b73-4897-8a7d-b41764c50372"
      },
      "source": [
        "# === Uncomment to clone and access repo \n",
        "!git clone https://github.com/timmytonga/gans-vi \n",
        "%cd gans-vi\n",
        "# !git pull\n",
        "!ls"
      ],
      "execution_count": 1,
      "outputs": [
        {
          "output_type": "stream",
          "text": [
            "Cloning into 'gans-vi'...\n",
            "remote: Enumerating objects: 105, done.\u001b[K\n",
            "remote: Counting objects: 100% (105/105), done.\u001b[K\n",
            "remote: Compressing objects: 100% (85/85), done.\u001b[K\n",
            "remote: Total 105 (delta 64), reused 48 (delta 20), pack-reused 0\u001b[K\n",
            "Receiving objects: 100% (105/105), 35.98 KiB | 221.00 KiB/s, done.\n",
            "Resolving deltas: 100% (64/64), done.\n",
            "/content/gans-vi\n",
            "dcgan_models.py      inception_score.py\t\t train_wgan_gp.py\n",
            "extraSGD.py\t     README.md\t\t\t utils.py\n",
            "fit_extrapastsgd.py  train_wgan_gp_extrapast.py  wgan_gp_loss.py\n",
            "fit_extrasgd.py      train_wgan_gp_extra.py\n"
          ],
          "name": "stdout"
        }
      ]
    },
    {
      "cell_type": "code",
      "metadata": {
        "id": "yGYGX9ZJT0h4"
      },
      "source": [
        "import torch\n",
        "import matplotlib.pyplot as plt\n",
        "from torch import nn\n",
        "from torch.utils.data import DataLoader\n",
        "# torchvision\n",
        "from torchvision.datasets import CIFAR10\n",
        "import torchvision.transforms as transforms\n",
        "\n",
        "from dcgan_models import Generator, Discriminator\n",
        "from wgan_gp_loss import disc_loss_wgan_gp, gen_loss_wgan_gp\n",
        "from utils import make_noise, get_cur_timestamp, show_tensor_images\n",
        "\n",
        "\n",
        "from tqdm.auto import tqdm  # for visualizing progress per epoch\n",
        "import time\n"
      ],
      "execution_count": 2,
      "outputs": []
    },
    {
      "cell_type": "markdown",
      "metadata": {
        "id": "VZDx7kkvNII8"
      },
      "source": [
        "### [Optional] Setting up Google Drive for Loading and Saving checkpoints"
      ]
    },
    {
      "cell_type": "code",
      "metadata": {
        "colab": {
          "base_uri": "https://localhost:8080/"
        },
        "id": "MDmicxhpvZDI",
        "outputId": "4dd49d8d-ac50-4525-f29b-b836a33aa285"
      },
      "source": [
        "# first, setting up check-point directory (we want this to be on a permanent storage like google drive or local)\n",
        "# first mount the google drive here, hello\n",
        "from google.colab import drive\n",
        "drive.mount('/content/drive')"
      ],
      "execution_count": 3,
      "outputs": [
        {
          "output_type": "stream",
          "text": [
            "Mounted at /content/drive\n"
          ],
          "name": "stdout"
        }
      ]
    },
    {
      "cell_type": "code",
      "metadata": {
        "colab": {
          "base_uri": "https://localhost:8080/"
        },
        "id": "4mLaAHnxTFu1",
        "outputId": "2f245882-10f5-45a7-be0a-9a6ad3359287"
      },
      "source": [
        "!ls /content/drive/MyDrive/cs6140/gan_normalized_adam/"
      ],
      "execution_count": 4,
      "outputs": [
        {
          "output_type": "stream",
          "text": [
            "'[19-Nov-2020(16:36)]10avgAdam.pt'  '[19-Nov-2020(18:37)]50avgAdam.pt'\n",
            "'[19-Nov-2020(17:07)]20avgAdam.pt'  '[19-Nov-2020(19:07)]60avgAdam.pt'\n",
            "'[19-Nov-2020(17:37)]30avgAdam.pt'  '[19-Nov-2020(20:11)]70avgAdam.pt'\n",
            "'[19-Nov-2020(18:07)]40avgAdam.pt'\n"
          ],
          "name": "stdout"
        }
      ]
    },
    {
      "cell_type": "markdown",
      "metadata": {
        "id": "NqqwsKa0Yt_B"
      },
      "source": [
        "# TRAINING"
      ]
    },
    {
      "cell_type": "code",
      "metadata": {
        "id": "0NSzES3SUFH1",
        "colab": {
          "base_uri": "https://localhost:8080/"
        },
        "outputId": "62fcaa5f-4470-4233-b814-5e696d602e54"
      },
      "source": [
        "# ======== =================================================================== #\n",
        "#                  FIRST, MUST MAKE SURE PATHS ARE CORRECT                    #\n",
        "# =========================================================================== #\n",
        "CHECKPOINT_PATH=\"/content/drive/MyDrive/cs6140/gan_normalized_adam/\"\n",
        "SAVE_MODEL_PATH=\"/content/drive/MyDrive/cs6140/gan_model/\"\n",
        "DISC_PATH = SAVE_MODEL_PATH + 'disc_weight.pth'\n",
        "GEN_PATH = SAVE_MODEL_PATH + 'gen_weight.pth'\n",
        "\n",
        "\n",
        "# =========================================================================== #\n",
        "#                  SET ANY CHECKPOINT FILE HERE (ignore if no checkpoint)     #\n",
        "# =========================================================================== #\n",
        "CHECKPOINTFILENAME = \"[19-Nov-2020(20:11)]70avgAdam.pt\"\n",
        "CHECKPOINTFILEPATH = CHECKPOINT_PATH + CHECKPOINTFILENAME  # change the last part\n",
        "ENABLE_CHECKPOINT = True\n",
        "\n",
        "print(torch.cuda.get_device_name(), torch.cuda.get_device_capability())"
      ],
      "execution_count": 7,
      "outputs": [
        {
          "output_type": "stream",
          "text": [
            "Tesla K80 (3, 7)\n"
          ],
          "name": "stdout"
        }
      ]
    },
    {
      "cell_type": "code",
      "metadata": {
        "id": "uRuUR_JuTW6G"
      },
      "source": [
        " # =========================================================================== #\n",
        "#                  GET MODELS                                                 #\n",
        "# =========================================================================== #\n",
        "from dcgan_models import Discriminator, Generator\n",
        "\n",
        "wgan_gp = True    # do we want to do WGAN or WGAN-GP?\n",
        "\n",
        "device = 'cpu'\n",
        "if torch.cuda.is_available():  # use gpu if available\n",
        "\tdevice = 'cuda'\n",
        "\n",
        "\n",
        "gen = Generator().to(device)\n",
        "disc = Discriminator(wgan_gp=wgan_gp).to(device)\n",
        "gen2 = Generator().to(device)\n",
        "disc2 = Discriminator(wgan_gp=wgan_gp).to(device) "
      ],
      "execution_count": 8,
      "outputs": []
    },
    {
      "cell_type": "markdown",
      "metadata": {
        "id": "jWs_IDXQbn-R"
      },
      "source": [
        "### Setting up hyperparameters and environment variables"
      ]
    },
    {
      "cell_type": "code",
      "metadata": {
        "colab": {
          "base_uri": "https://localhost:8080/",
          "height": 655,
          "referenced_widgets": [
            "35d60d2d166b4268962661d32a5f62f2",
            "94126cd491fb4a27ae0252d68222f23b",
            "0b15874848dd45b9aeca8a567aa6e3dd",
            "2ee556d2b2c64e998d610b3f97ca9545",
            "b037cdec5f9949c19e9664f54fb57930",
            "88f3d516a9664eee83e8394364c658d9",
            "a5d58f1216834ce987e1392d486b797e",
            "0dac7f3c2d9148b38c792f3403ee0716"
          ]
        },
        "id": "OtEDGCFZF9nT",
        "outputId": "70782e81-3d82-40f9-ff68-42d2bb7012e6"
      },
      "source": [
        "# =========================================================================== #\n",
        "#                   HYPERPARAMETERS AND TRAINING DATA                         #\n",
        "# =========================================================================== #\n",
        "z_dim = 128\n",
        "lr = 0.00002      # learning rate\n",
        "if wgan_gp:       # according to varineq paper\n",
        "\tlr = 0.0001\n",
        "beta_1 = 0.5      # first moment's momentum (ADAM hyperparam)\n",
        "beta_2 = 0.9      # second moment's momentum\n",
        "weight_clipping = 0.01\n",
        "c_lambda = 10     # for gradient penalty\n",
        "batch_size = 64\n",
        "\n",
        "# get data and loader\n",
        "transform_train = transforms.Compose([\n",
        "\t# transforms.RandomHorizontalFlip(),\n",
        "\ttransforms.ToTensor(),\n",
        "\ttransforms.Normalize((0.4914, 0.4822, 0.4465), (0.2023, 0.1994, 0.2010))\n",
        "\t# transforms.Normalize((0.5, 0.5, 0.5), (0.5, 0.5, 0.5))\n",
        "])\n",
        "\n",
        "\n",
        "trainset = DataLoader(CIFAR10(root='.', download=True, transform=transform_train), batch_size=batch_size, shuffle=True)\n",
        "trainset2 = DataLoader(CIFAR10(root='.', download=True), batch_size=batch_size, shuffle=True)\n",
        "\n",
        "from torchvision.utils import make_grid\n",
        "\n",
        "\n",
        "# before training initialize weight\n",
        "def weights_init(m):\n",
        "\tif isinstance(m, nn.Conv2d) or isinstance(m, nn.ConvTranspose2d):\n",
        "\t\ttorch.nn.init.normal_(m.weight, 0.0, 0.02)\n",
        "\tif isinstance(m, nn.BatchNorm2d):\n",
        "\t\ttorch.nn.init.normal_(m.weight, 0.0, 0.02)\n",
        "\t\ttorch.nn.init.constant_(m.bias, 0)\n",
        "\t\n",
        "def weights_init_zero(m):\n",
        "\tif isinstance(m, nn.Conv2d) or isinstance(m, nn.ConvTranspose2d):\n",
        "\t\t\ttorch.nn.init.constant_(m.weight, 0.0)\n",
        "\tif isinstance(m, nn.BatchNorm2d):\n",
        "\t\t\ttorch.nn.init.constant_(m.weight, 0.0)\n",
        "\t\t\ttorch.nn.init.constant_(m.bias, 0.0)\n",
        "\n",
        "def show_tensor_images(image_tensor, num_images=25, unnorm_mean = (0,0,0), unnorm_var = (1,1,1)):\n",
        "\t\t\"\"\"\n",
        "\t\tFunction for visualizing images: Given a tensor of images, number of images, and\n",
        "\t\tsize per image, plots and prints the images in an uniform grid.\n",
        "\n",
        "\t\t\"\"\"\n",
        "\t\tvar = torch.tensor(unnorm_var).view(1, 3, 1, 1)\n",
        "\t\tmean = torch.tensor(unnorm_mean).view(1, 3, 1, 1)\n",
        "\t\timage_unflat = image_tensor.detach().cpu()\n",
        "\t\timage_unflat = image_unflat.mul_(var).add_(mean) \n",
        "\t\timage_grid = make_grid(image_unflat[:num_images], nrow=5)\n",
        "\t\tplt.imshow(image_grid.permute(1, 2, 0).squeeze())\n",
        "\t\tplt.show()\n",
        "\n",
        "gen = gen.apply(weights_init)\n",
        "disc = disc.apply(weights_init)\n",
        "gen2 = gen2.apply(weights_init_zero)\n",
        "disc2 = disc2.apply(weights_init_zero)\n",
        "img = gen(make_noise(25, z_dim, device=device))\n",
        "show_tensor_images(img)\n",
        "\n",
        "print(\"Normalize and then unnormalize\")\n",
        "for testimg, label in trainset:\n",
        "\t\tshow_tensor_images(testimg, unnorm_mean = (0.4914, 0.4822, 0.4465), unnorm_var=(0.2023, 0.1994, 0.2010))\n",
        "\t\tbreak"
      ],
      "execution_count": 9,
      "outputs": [
        {
          "output_type": "stream",
          "text": [
            "Downloading https://www.cs.toronto.edu/~kriz/cifar-10-python.tar.gz to ./cifar-10-python.tar.gz\n"
          ],
          "name": "stdout"
        },
        {
          "output_type": "display_data",
          "data": {
            "application/vnd.jupyter.widget-view+json": {
              "model_id": "35d60d2d166b4268962661d32a5f62f2",
              "version_minor": 0,
              "version_major": 2
            },
            "text/plain": [
              "HBox(children=(FloatProgress(value=1.0, bar_style='info', max=1.0), HTML(value='')))"
            ]
          },
          "metadata": {
            "tags": []
          }
        },
        {
          "output_type": "stream",
          "text": [
            "Extracting ./cifar-10-python.tar.gz to .\n",
            "Files already downloaded and verified\n"
          ],
          "name": "stdout"
        },
        {
          "output_type": "stream",
          "text": [
            "Clipping input data to the valid range for imshow with RGB data ([0..1] for floats or [0..255] for integers).\n"
          ],
          "name": "stderr"
        },
        {
          "output_type": "display_data",
          "data": {
            "image/png": "[encoded data removed]",
            "text/plain": [
              "<Figure size 432x288 with 1 Axes>"
            ]
          },
          "metadata": {
            "tags": [],
            "needs_background": "light"
          }
        },
        {
          "output_type": "stream",
          "text": [
            "Clipping input data to the valid range for imshow with RGB data ([0..1] for floats or [0..255] for integers).\n"
          ],
          "name": "stderr"
        },
        {
          "output_type": "stream",
          "text": [
            "Normalize and then unnormalize\n"
          ],
          "name": "stdout"
        },
        {
          "output_type": "display_data",
          "data": {
            "image/png": "[encoded data removed]",
            "text/plain": [
              "<Figure size 432x288 with 1 Axes>"
            ]
          },
          "metadata": {
            "tags": [],
            "needs_background": "light"
          }
        }
      ]
    },
    {
      "cell_type": "code",
      "metadata": {
        "id": "_PLkxwtIUbyn"
      },
      "source": [
        "# =========================================================================== #\n",
        "#                  SET OPTIMIZERS HERE                                        #\n",
        "# =========================================================================== #\n",
        "import pytz\n",
        "from datetime import datetime\n",
        "\n",
        "# define the Adam optimizers\n",
        "gen_opt = torch.optim.Adam(gen.parameters(), lr=lr, betas=(beta_1, beta_2))\n",
        "disc_opt = torch.optim.Adam(disc.parameters(), lr=lr, betas=(beta_1, beta_2))\n",
        "\n",
        "# define SGD \n",
        "# gen_opt = torch.optim.SGD(gen.parameters(), lr=lr)\n",
        "# disc_opt = torch.optim.SGD(disc.parameters(), lr=lr)\n",
        "\n",
        "# =========================================================================== #\n",
        "#                  SET LOSS FUNCTIONS FOR FITTING                             #\n",
        "# =========================================================================== #\n",
        "disc_loss_fn = disc_loss_wgan_gp\n",
        "gen_loss_fn = gen_loss_wgan_gp\n",
        "\n",
        "def get_cur_timestamp():\n",
        "\ttz_NY = pytz.timezone('America/New_York')\n",
        "\tdateTimeObj = datetime.now(tz_NY)\n",
        "\treturn dateTimeObj.strftime(\"[%d-%b-%Y(%H:%M)]\")"
      ],
      "execution_count": 10,
      "outputs": []
    },
    {
      "cell_type": "code",
      "metadata": {
        "colab": {
          "base_uri": "https://localhost:8080/",
          "height": 100,
          "referenced_widgets": [
            "b05c91f107bc400589b45fe6d8e6958e",
            "6c171150eeef4b73aa862a41d981ead2",
            "23cb4226d8924bfe86c0a7151d57649c",
            "9008a2807a514b9a9c192c430d00c436",
            "e74cb296f4ca4d2799fb7778c766e2a7",
            "9679da8389084744a4180c8bd31fa317",
            "aaf4dd8ed0734743ab419b994d56a105",
            "4b7a2dd6ac0944aba45ac1bb5de6994f"
          ]
        },
        "id": "eafRcvfLbnx7",
        "outputId": "8bad1cf4-4f6b-476f-91f5-535074073aae"
      },
      "source": [
        "# =========================================================================== #\n",
        "#                  SET VALIDATION STUFF                                       #\n",
        "# =========================================================================== #\n",
        "from inception_score import inception_score\n",
        "torch.manual_seed(0)\n",
        "validation_noise = make_noise(25, z_dim, device=device)  # so we have a fixed validation noise\n",
        "torch.manual_seed(int(time.time()))  # this should be random enough for fitting\n",
        "\n",
        "\n",
        "valimg = gen(validation_noise)\n",
        "test_score = inception_score(valimg, cuda=True, batch_size=batch_size, resize=True, n_sec=1)\n",
        "# inception_score(IS_fake, cuda=True, batch_size=32, resize=True, n_sec=8)\n",
        "print(test_score)"
      ],
      "execution_count": 11,
      "outputs": [
        {
          "output_type": "stream",
          "text": [
            "Downloading: \"https://download.pytorch.org/models/inception_v3_google-1a9a5a14.pth\" to /root/.cache/torch/hub/checkpoints/inception_v3_google-1a9a5a14.pth\n"
          ],
          "name": "stderr"
        },
        {
          "output_type": "display_data",
          "data": {
            "application/vnd.jupyter.widget-view+json": {
              "model_id": "b05c91f107bc400589b45fe6d8e6958e",
              "version_minor": 0,
              "version_major": 2
            },
            "text/plain": [
              "HBox(children=(FloatProgress(value=0.0, max=108857766.0), HTML(value='')))"
            ]
          },
          "metadata": {
            "tags": []
          }
        },
        {
          "output_type": "stream",
          "text": [
            "\n",
            "(1.0054044809094862, 0.0)\n"
          ],
          "name": "stdout"
        }
      ]
    },
    {
      "cell_type": "markdown",
      "metadata": {
        "id": "GYrHIx4TOAaB"
      },
      "source": [
        "### FITTING"
      ]
    },
    {
      "cell_type": "code",
      "metadata": {
        "colab": {
          "base_uri": "https://localhost:8080/",
          "height": 553,
          "referenced_widgets": [
            "30ac01f8fd944ca9a598bba8b5717b38",
            "143d05d521d3483e8b50eb0e2135d1cc",
            "52fb63849f3745699be513665fe30f77",
            "ca636ff771864f4fb9d426a097550ffb",
            "f1df1ebde33f4d9f8c0d265d364f4f8e",
            "35b054c9c31847e3aac7727893d576df",
            "1b00b9d8509b43d3b3d64baf12020d22",
            "c336033eb69844f6b3c48f188937bd3a"
          ]
        },
        "id": "X1l4q4RzbNzF",
        "outputId": "4766a16b-4d55-4b94-b5d9-a35b5aee6f7e"
      },
      "source": [
        "# =========================================================================== #\n",
        "#                  FITTING                                                    #\n",
        "# =========================================================================== #\n",
        "display_step = 500  # for displaying info after this many step (i.e. batch)\n",
        "disc_repeats = 5  # how many times to train the discriminator per one generator\n",
        "check_point_after_epochs = 10  # checkpointing every these epochs\n",
        "n_epochs = 501\n",
        "save_dict = None  # backup checkpoint for manual saving\n",
        "\n",
        "\n",
        "def fit(checkpt=True, loadcheckptpath=None, CHECKPOINT_NAME_TAG=\"avgAdam.pt\"):\n",
        "\t\"\"\" fit the models gen, disc in global var\n",
        "\tCHECKPOINT_NAME_TAG specifies the naming for the checkpoint file\n",
        "\t\"\"\"\n",
        "\t# ================================================================== #\n",
        "\t#       Initialize training vars and load checkpt if any             #\n",
        "\t# ================================================================== #\n",
        "\tstep = 0\n",
        "\tgenerator_losses = []\n",
        "\tdisc_losses = []\n",
        "\tinception_scores = []\n",
        "\tavgmodel_inception_scores = []\n",
        "\timg_history = []\n",
        "\tavgmodel_image_history = []\n",
        "\tlast_epoch = 0\n",
        "\tgen2_losses = []\n",
        "\tdisc2_losses = []\n",
        "\n",
        "\tif loadcheckptpath is not None:  # we were provided with checkpt. Load and resume\n",
        "\t\tprint(f\"========= Checkpoint found! Resuming training from last checkpoint at ======== \\n{loadcheckptpath}\")\n",
        "\t\tprint(\"Loading checkpoint...\")\n",
        "\t\tcheckpoint = torch.load(loadcheckptpath)\n",
        "\t\tprint(\"Checkpoint loaded successfully! Info:\")\n",
        "\t\tlast_epoch = checkpoint['epoch'] + 1\n",
        "\t\tprint(f\"\\tLast epoch: {last_epoch - 1}\")\n",
        "\t\tdisc.load_state_dict(checkpoint['disc_state_dict'])\n",
        "\t\tgen.load_state_dict(checkpoint['gen_state_dict'])\n",
        "\t\tdisc2.load_state_dict(checkpoint['disc2_state_dict'])\n",
        "\t\tgen2.load_state_dict(checkpoint['gen2_state_dict'])\n",
        "\t\tdisc_opt.load_state_dict(checkpoint['disc_opt_state_dict'])\n",
        "\t\tgen_opt.load_state_dict(checkpoint['gen_opt_state_dict'])\n",
        "\t\tprint(f\"\\tLoaded discriminator and generator's old weight and state_dict\")\n",
        "\t\tgenerator_losses = checkpoint['generator_losses']\n",
        "\t\tdisc_losses = checkpoint['disc_losses']\n",
        "\t\tgen2_losses = checkpoint['gen2_losses']\n",
        "\t\tdisc2_losses = checkpoint['disc2_losses']\n",
        "\t\tprint(f\"\\tLoaded losses history.\")\n",
        "\t\tstep = checkpoint['step']\n",
        "\t\tprint(f\"\\tLast step: {step}\")\n",
        "\t\timg_history = checkpoint['img_history']\n",
        "\t\tinception_scores = checkpoint['inception_scores']\n",
        "\t\tavgmodel_image_history = checkpoint['avgmodel_image_history'] \n",
        "\t\tavgmodel_inception_scores = checkpoint['avgmodel_inception_scores'] \n",
        "\t\tprint(\"Loaded img_history and inception_scores\")\n",
        "\t\tprint(\"===================== FINISHED LOADING LAST CHECKPOINT. TRAINING ===========\")\n",
        "\telse:\n",
        "\t\tprint(\"Checkpoint not found. Below is the first image with the validation noise.\")\n",
        "\t\tfirstimg = gen(validation_noise)\n",
        "\t\tshow_tensor_images(firstimg, unnorm_mean = (0.4914, 0.4822, 0.4465), unnorm_var=(0.2023, 0.1994, 0.2010))\n",
        "\t\timg_history += [firstimg]\n",
        "\n",
        "\t# ==================== BEGIN TRAINING ==================== #\n",
        "\tprint(\"Training with\", device)\n",
        "\tfor epoch in range(last_epoch, n_epochs):\n",
        "\t\t# make sure the models are set to training\n",
        "\t\tgen.train()\n",
        "\t\tdisc.train()\n",
        "\t\tprint(f\"EPOCH: {epoch}\")\n",
        "\t\t# Dataloader returns the batches\n",
        "\t\tfor real, label in tqdm(trainset):  # tqdm is just a progress bar\n",
        "\t\t\tcur_batch_size = len(real)\n",
        "\t\t\treal = real.to(device)  # load to GPU if enabled\n",
        "\n",
        "\t\t\t# ================================================================== #\n",
        "\t\t\t#                      Train the discriminator                       #\n",
        "\t\t\t# ================================================================== #\n",
        "\t\t\tmean_iteration_disc_loss = 0  # save the mean of the discrimator's loss\n",
        "\t\t\tfor _ in range(disc_repeats):  # train the discriminator this many times\n",
        "\t\t\t\t# ======== First compute the losses on the current model ======== #\n",
        "\t\t\t\tdisc_opt.zero_grad()  # first zero out the grad\n",
        "\n",
        "\t\t\t\t# now we generate fake images and compute the loss based on the given loss fn\n",
        "\t\t\t\tnoise = make_noise(cur_batch_size, z_dim, device=device)\n",
        "\t\t\t\tfake = gen(noise)\n",
        "\t\t\t\t# compute the loss (loss fn set above)\n",
        "\t\t\t\tdisc_loss = disc_loss_fn(disc, real, fake, device, c_lambda)\n",
        "\t\t\t\t# Keep track of the average discriminator loss in this batch\n",
        "\t\t\t\tmean_iteration_disc_loss += disc_loss.item() / disc_repeats\n",
        "\n",
        "\t\t\t\t# Update gradients\n",
        "\t\t\t\tdisc_loss.backward(retain_graph=True)\n",
        "\t\t\t\t# Update optimizer\n",
        "\t\t\t\tdisc_opt.step()\n",
        "\n",
        "\t\t\tdisc_losses += [mean_iteration_disc_loss]  # add the loss for visualization\n",
        "\n",
        "\t\t\t# ================================================================== #\n",
        "\t\t\t#                      Train the generator                           #\n",
        "\t\t\t# ================================================================== #\n",
        "\t\t\t# first zero out the gradients\n",
        "\t\t\tgen_opt.zero_grad()\n",
        "\t\t\t# then generate some fake images\n",
        "\t\t\tmorenoise = make_noise(cur_batch_size, z_dim, device=device)\n",
        "\t\t\tfake = gen(morenoise)\n",
        "\t\t\t# compute the scores and losses\n",
        "\t\t\tfake_score = disc(fake)\n",
        "\t\t\tgen_loss = gen_loss_fn(fake_score)\n",
        "\t\t\t# backprop i.e. compute the gradients\n",
        "\t\t\tgen_loss.backward()\n",
        "\t\t\t# Update the weights\n",
        "\t\t\tgen_opt.step()\n",
        "\n",
        "\t\t\t# Keep track of the generator loss\n",
        "\t\t\tgenerator_losses += [gen_loss.item()]\n",
        "\n",
        "\t\t\tstep+=1\n",
        "\n",
        "\t\t\t# ================================================================== #\n",
        "\t\t\t#                               Average                              #\n",
        "\t\t\t# ================================================================== #\n",
        "      # compute the loss for the averaged disc\n",
        "\t\t\tnoise = make_noise(cur_batch_size, z_dim, device=device)\n",
        "\t\t\tfake = gen2(noise) \n",
        "\t\t\tdisc2_loss = disc_loss_fn(disc2, real, fake, device, c_lambda)\n",
        "\t\t\tdisc2_losses += [disc2_loss.item()]\n",
        "\t\t\tfake_score = disc2(fake)\n",
        "\t\t\tgen2_loss = gen_loss_fn(fake_score)\n",
        "\t\t\tgen2_losses += [gen2_loss.item()]\n",
        "            \n",
        "      # update the avg weights\n",
        "\t\t\twith torch.no_grad():\n",
        "\t\t\t    for name, p in disc.named_parameters():\n",
        "\t\t\t        q = disc2.state_dict()[name]\n",
        "\t\t\t        q = ((step-1)*q +p)/step \n",
        "\t\t\t        new_state_dict = {name: q}\n",
        "\t\t\t        disc2.load_state_dict(new_state_dict, strict=False)\n",
        "\n",
        "\t\t\twith torch.no_grad():\n",
        "\t\t\t    for name, p in gen.named_parameters():\n",
        "\t\t\t        q = gen2.state_dict()[name]\n",
        "\t\t\t        q = ((step-1)*q +p)/step \n",
        "\t\t\t        new_state_dict = {name: q}\n",
        "\t\t\t        gen2.load_state_dict(new_state_dict, strict=False)\n",
        "\n",
        "\n",
        "\t\t# ================================================================== #\n",
        "\t\t#                       Validation                                   #\n",
        "\t\t# ================================================================== #\n",
        "\t\tgen.eval()\n",
        "\t\tdisc.eval()\n",
        "\t\tprint(f\"================= VALIDATION for EPOCH {epoch}==================\")\n",
        "\t\tprint(\"-Overall losses:\")\n",
        "\t\t## plot total losses after each epoch\n",
        "\t\tplt.plot(\n",
        "\t\t\t# range(num_examples // step_bins),\n",
        "\t\t\t# torch.Tensor(generator_losses[:num_examples]).view(-1, step_bins).mean(1),\n",
        "\t\t\trange(len(generator_losses)),\n",
        "\t\t\tgenerator_losses,\n",
        "\t\t\tlabel=\"Generator Loss\"\n",
        "\t\t)\n",
        "\t\tplt.plot(\n",
        "\t\t\t# range(num_examples // step_bins),\n",
        "\t\t\t# torch.Tensor(disc_losses[:num_examples]).view(-1, step_bins).mean(1),\n",
        "\t\t\trange(len(disc_losses)),\n",
        "\t\t\tdisc_losses,\n",
        "\t\t\tlabel=\"Discriminator Loss\"\n",
        "\t\t)\t\t\n",
        "  \t\t# plot the avg weight models' losses\n",
        "\t\tplt.plot(\n",
        "\t\t\t# range(num_examples // step_bins),\n",
        "\t\t\t# torch.Tensor(generator_losses[:num_examples]).view(-1, step_bins).mean(1),\n",
        "\t\t\trange(len(gen2_losses)),\n",
        "\t\t\tgen2_losses,\n",
        "\t\t\tlabel=\"Avg Weight Generator Loss\"\n",
        "\t\t)\n",
        "\t\tplt.plot(\n",
        "\t\t\t# range(num_examples // step_bins),\n",
        "\t\t\t# torch.Tensor(disc_losses[:num_examples]).view(-1, step_bins).mean(1),\n",
        "\t\t\trange(len(disc2_losses)),\n",
        "\t\t\tdisc2_losses,\n",
        "\t\t\tlabel=\"Avg Weight Discriminator Loss\"\n",
        "\t\t)\n",
        "\t\tplt.ylabel('loss')\n",
        "\t\tplt.xlabel('number of batches processed')\n",
        "\t\tplt.title('Loss over numbatches for discriminator and generator')\n",
        "\t\tplt.legend()\n",
        "\t\tplt.show()\n",
        "\t\t\n",
        "\n",
        "\t\tprint(\"Showing Validation Images\")\n",
        "\t\tvalimg = gen(validation_noise)\n",
        "\t\tavgmodel_valimg = gen2(validation_noise)\n",
        "\t\tprint(\"Without averaging\")\n",
        "\t\tshow_tensor_images(valimg, unnorm_mean = (0.4914, 0.4822, 0.4465), unnorm_var=(0.2023, 0.1994, 0.2010))\n",
        "\t\tprint(\"With averaging\")\n",
        "\t\tshow_tensor_images(avgmodel_valimg, unnorm_mean = (0.4914, 0.4822, 0.4465), unnorm_var=(0.2023, 0.1994, 0.2010))\n",
        "\t\timg_history += [valimg]\n",
        "\t\tavgmodel_image_history += [avgmodel_valimg]\n",
        "\t\t# print(\"Showing Images Generated by Random Input\")\n",
        "\t\t# show_tensor_images(gen(make_noise(25, z_dim, device=device)))\n",
        "\n",
        "\t\t# === We validate our progress by measuring inception score on \"validation noise\" that we fixed in the beginning =====\n",
        "\t\tincept_score = inception_score(valimg, cuda=True, batch_size=batch_size, resize=True, n_sec=1)[0]\n",
        "\t\tavgmodel_incept_score = inception_score(avgmodel_valimg, cuda=True, batch_size=batch_size, resize=True, n_sec=1)[0]\n",
        "\t\tinception_scores.append(incept_score)\n",
        "\t\tavgmodel_inception_scores.append(avgmodel_incept_score)\n",
        "\t\tplt.plot(\n",
        "\t\t\trange(len(inception_scores)),\n",
        "\t\t\tinception_scores,\n",
        "\t\t\tlabel=\"No Averaging\"\n",
        "\t\t)\n",
        "\t\tplt.plot(\n",
        "\t\t\trange(len(avgmodel_inception_scores)),\n",
        "\t\t\tavgmodel_inception_scores,\n",
        "\t\t\tlabel=\"With Averaging\"\n",
        "\t\t)\n",
        "\t\tplt.xlabel(\"Epoch\")\n",
        "\t\tplt.ylabel(\"Inception Score\")\n",
        "\t\tplt.title(\"Inception Scores over Epochs\")\n",
        "\t\tplt.legend()\n",
        "\t\tplt.show()\n",
        "\n",
        "\t\t# ================================================================== #\n",
        "\t\t#                      Check-pointing                                #\n",
        "\t\t# ================================================================== #\n",
        "\n",
        "\t\tif checkpt and epoch % check_point_after_epochs == 0 and epoch > 0:\n",
        "\t\t\ttimestamp = get_cur_timestamp()\n",
        "\t\t\tcheckpt_file_path = CHECKPOINT_PATH + timestamp + str(epoch) + CHECKPOINT_NAME_TAG\n",
        "\t\t\tprint(f\"*** EPOCH {epoch} SAVING CHECKPOINTS AT {checkpt_file_path} ***\")\n",
        "\t\t\tsave_dict = {\n",
        "\t\t\t\t'epoch': epoch,\n",
        "\t\t\t\t'disc_state_dict': disc.state_dict(),\n",
        "\t\t\t\t'gen_state_dict': gen.state_dict(),\n",
        "\t\t\t\t'disc2_state_dict': disc2.state_dict(),\n",
        "\t\t\t\t'gen2_state_dict': gen2.state_dict(),\n",
        "\t\t\t\t'disc_opt_state_dict': disc_opt.state_dict(),\n",
        "\t\t\t\t'gen_opt_state_dict': gen_opt.state_dict(),\n",
        "\t\t\t\t'generator_losses': generator_losses,\n",
        "\t\t\t\t'disc_losses': disc_losses,\n",
        "\t\t\t\t'gen2_losses': gen2_losses,\n",
        "\t\t\t\t'disc2_losses': disc2_losses,\n",
        "\t\t\t\t'step': step,\n",
        "\t\t\t\t'img_history': img_history,\n",
        "\t\t\t\t'inception_scores': inception_scores,\n",
        "\t\t\t\t'avgmodel_image_history': avgmodel_image_history,\n",
        "\t\t\t\t'avgmodel_inception_scores': avgmodel_inception_scores\n",
        "\t\t\t}\n",
        "\t\t\ttorch.save(save_dict, checkpt_file_path)\n",
        "\n",
        "\n",
        "# FIT WITHOUT CHECKPOINTS ####\n",
        "# fit()\n",
        "\n",
        "# USE THIS FIT VERSION FOR FITTING WITH CHECKPOINTS ###\n",
        "fit(checkpt=ENABLE_CHECKPOINT, loadcheckptpath=CHECKPOINTFILEPATH)"
      ],
      "execution_count": 12,
      "outputs": [
        {
          "output_type": "stream",
          "text": [
            "========= Checkpoint found! Resuming training from last checkpoint at ======== \n",
            "/content/drive/MyDrive/cs6140/gan_normalized_adam/[19-Nov-2020(20:11)]70avgAdam.pt\n",
            "Loading checkpoint...\n",
            "Checkpoint loaded successfully! Info:\n",
            "\tLast epoch: 70\n",
            "\tLoaded discriminator and generator's old weight and state_dict\n",
            "\tLoaded losses history.\n",
            "\tLast step: 55522\n",
            "Loaded img_history and inception_scores\n",
            "===================== FINISHED LOADING LAST CHECKPOINT. TRAINING ===========\n",
            "Training with cuda\n",
            "EPOCH: 71\n"
          ],
          "name": "stdout"
        },
        {
          "output_type": "display_data",
          "data": {
            "application/vnd.jupyter.widget-view+json": {
              "model_id": "30ac01f8fd944ca9a598bba8b5717b38",
              "version_minor": 0,
              "version_major": 2
            },
            "text/plain": [
              "HBox(children=(FloatProgress(value=0.0, max=782.0), HTML(value='')))"
            ]
          },
          "metadata": {
            "tags": []
          }
        },
        {
          "output_type": "error",
          "ename": "KeyboardInterrupt",
          "evalue": "ignored",
          "traceback": [
            "\u001b[0;31m---------------------------------------------------------------------------\u001b[0m",
            "\u001b[0;31mKeyboardInterrupt\u001b[0m                         Traceback (most recent call last)",
            "\u001b[0;32m<ipython-input-12-719a80e574fa>\u001b[0m in \u001b[0;36m<module>\u001b[0;34m()\u001b[0m\n\u001b[1;32m    254\u001b[0m \u001b[0;34m\u001b[0m\u001b[0m\n\u001b[1;32m    255\u001b[0m \u001b[0;31m# USE THIS FIT VERSION FOR FITTING WITH CHECKPOINTS ###\u001b[0m\u001b[0;34m\u001b[0m\u001b[0;34m\u001b[0m\u001b[0;34m\u001b[0m\u001b[0m\n\u001b[0;32m--> 256\u001b[0;31m \u001b[0mfit\u001b[0m\u001b[0;34m(\u001b[0m\u001b[0mcheckpt\u001b[0m\u001b[0;34m=\u001b[0m\u001b[0mENABLE_CHECKPOINT\u001b[0m\u001b[0;34m,\u001b[0m \u001b[0mloadcheckptpath\u001b[0m\u001b[0;34m=\u001b[0m\u001b[0mCHECKPOINTFILEPATH\u001b[0m\u001b[0;34m)\u001b[0m\u001b[0;34m\u001b[0m\u001b[0;34m\u001b[0m\u001b[0m\n\u001b[0m",
            "\u001b[0;32m<ipython-input-12-719a80e574fa>\u001b[0m in \u001b[0;36mfit\u001b[0;34m(checkpt, loadcheckptpath, CHECKPOINT_NAME_TAG)\u001b[0m\n\u001b[1;32m    123\u001b[0m                         \u001b[0mfake\u001b[0m \u001b[0;34m=\u001b[0m \u001b[0mgen2\u001b[0m\u001b[0;34m(\u001b[0m\u001b[0mnoise\u001b[0m\u001b[0;34m)\u001b[0m\u001b[0;34m\u001b[0m\u001b[0;34m\u001b[0m\u001b[0m\n\u001b[1;32m    124\u001b[0m                         \u001b[0mdisc2_loss\u001b[0m \u001b[0;34m=\u001b[0m \u001b[0mdisc_loss_fn\u001b[0m\u001b[0;34m(\u001b[0m\u001b[0mdisc2\u001b[0m\u001b[0;34m,\u001b[0m \u001b[0mreal\u001b[0m\u001b[0;34m,\u001b[0m \u001b[0mfake\u001b[0m\u001b[0;34m,\u001b[0m \u001b[0mdevice\u001b[0m\u001b[0;34m,\u001b[0m \u001b[0mc_lambda\u001b[0m\u001b[0;34m)\u001b[0m\u001b[0;34m\u001b[0m\u001b[0;34m\u001b[0m\u001b[0m\n\u001b[0;32m--> 125\u001b[0;31m                         \u001b[0mdisc2_losses\u001b[0m \u001b[0;34m+=\u001b[0m \u001b[0;34m[\u001b[0m\u001b[0mdisc2_loss\u001b[0m\u001b[0;34m.\u001b[0m\u001b[0mitem\u001b[0m\u001b[0;34m(\u001b[0m\u001b[0;34m)\u001b[0m\u001b[0;34m]\u001b[0m\u001b[0;34m\u001b[0m\u001b[0;34m\u001b[0m\u001b[0m\n\u001b[0m\u001b[1;32m    126\u001b[0m                         \u001b[0mfake_score\u001b[0m \u001b[0;34m=\u001b[0m \u001b[0mdisc2\u001b[0m\u001b[0;34m(\u001b[0m\u001b[0mfake\u001b[0m\u001b[0;34m)\u001b[0m\u001b[0;34m\u001b[0m\u001b[0;34m\u001b[0m\u001b[0m\n\u001b[1;32m    127\u001b[0m                         \u001b[0mgen2_loss\u001b[0m \u001b[0;34m=\u001b[0m \u001b[0mgen_loss_fn\u001b[0m\u001b[0;34m(\u001b[0m\u001b[0mfake_score\u001b[0m\u001b[0;34m)\u001b[0m\u001b[0;34m\u001b[0m\u001b[0;34m\u001b[0m\u001b[0m\n",
            "\u001b[0;31mKeyboardInterrupt\u001b[0m: "
          ]
        }
      ]
    },
    {
      "cell_type": "markdown",
      "metadata": {
        "id": "K8smSN7KrNAo"
      },
      "source": [
        "# Evaluation"
      ]
    },
    {
      "cell_type": "code",
      "metadata": {
        "colab": {
          "base_uri": "https://localhost:8080/"
        },
        "id": "tEVhLmWG_zfN",
        "outputId": "e07bbe1f-0e5a-43cc-c165-7662d159945e"
      },
      "source": [
        "loadcheckptpath=CHECKPOINTFILEPATH\n",
        "print(f\"========= Checkpoint found! Resuming training from last checkpoint at ======== \\n{loadcheckptpath}\")\n",
        "print(\"Loading checkpoint...\")\n",
        "checkpoint = torch.load(loadcheckptpath)\n",
        "print(\"Checkpoint loaded successfully! Info:\")\n",
        "last_epoch = checkpoint['epoch'] + 1\n",
        "print(f\"\\tLast epoch: {last_epoch - 1}\")\n",
        "disc.load_state_dict(checkpoint['disc_state_dict'])\n",
        "gen.load_state_dict(checkpoint['gen_state_dict'])\n",
        "disc2.load_state_dict(checkpoint['disc2_state_dict'])\n",
        "gen2.load_state_dict(checkpoint['gen2_state_dict'])\n",
        "disc_opt.load_state_dict(checkpoint['disc_opt_state_dict'])\n",
        "gen_opt.load_state_dict(checkpoint['gen_opt_state_dict'])\n",
        "print(f\"\\tLoaded discriminator and generator's old weight and state_dict\")\n",
        "generator_losses = checkpoint['generator_losses']\n",
        "disc_losses = checkpoint['disc_losses']\n",
        "gen2_losses = checkpoint['gen2_losses']\n",
        "disc2_losses = checkpoint['disc2_losses']\n",
        "print(f\"\\tLoaded losses history.\")\n",
        "step = checkpoint['step']\n",
        "print(f\"\\tLast step: {step}\")\n",
        "img_history = checkpoint['img_history']\n",
        "inception_scores = checkpoint['inception_scores']\n",
        "avgmodel_image_history = checkpoint['avgmodel_image_history'] \n",
        "avgmodel_inception_scores = checkpoint['avgmodel_inception_scores'] \n",
        "print(\"Loaded img_history and inception_scores\")\n",
        "print(\"===================== FINISHED LOADING LAST CHECKPOINT. TRAINING ===========\") "
      ],
      "execution_count": null,
      "outputs": [
        {
          "output_type": "stream",
          "text": [
            "========= Checkpoint found! Resuming training from last checkpoint at ======== \n",
            "/content/drive/MyDrive/cs6140/gan_train_checkpt/[17-Nov-2020(19:01)]500avgextraAdam.pt\n",
            "Loading checkpoint...\n",
            "Checkpoint loaded successfully! Info:\n",
            "\tLast epoch: 500\n",
            "\tLoaded discriminator and generator's old weight and state_dict\n",
            "\tLoaded losses history.\n",
            "\tLast step: 391782\n",
            "Loaded img_history and inception_scores\n",
            "===================== FINISHED LOADING LAST CHECKPOINT. TRAINING ===========\n"
          ],
          "name": "stdout"
        }
      ]
    },
    {
      "cell_type": "code",
      "metadata": {
        "id": "7Rg40rmQBSNH"
      },
      "source": [
        "print(\"Showing Validation Images\")\n",
        "valimg = gen(validation_noise)\n",
        "avgmodel_valimg = gen2(validation_noise)\n",
        "\n",
        "print(\"\")\n",
        "show_tensor_images(valimg, unnorm_mean = (0.4914, 0.4822, 0.4465), unnorm_var=(0.2023, 0.1994, 0.2010))\n",
        "img_history += [valimg]\n",
        "avgmodel_image_history += [avgmodel_valimg]\n",
        "\n",
        "# print(\"Showing Images Generated by Random Input\")\n",
        "# show_tensor_images(gen(make_noise(25, z_dim, device=device)))\n",
        "\n",
        "# === We validate our progress by measuring inception score on \"validation noise\" that we fixed in the beginning =====\n",
        "incept_score = inception_score(valimg, cuda=True, batch_size=batch_size, resize=True, n_sec=1)[0]\n",
        "avgmodel_incept_score = inception_score(avgmodel_valimg, cuda=True, batch_size=batch_size, resize=True, n_sec=1)[0]\n",
        "inception_scores.append(incept_score)\n",
        "avgmodel_inception_scores.append(avgmodel_incept_score)\n",
        "plt.plot(\n",
        "  range(len(inception_scores)),\n",
        "  inception_scores,\n",
        "  label=\"No Averaging\"\n",
        ")\n",
        "plt.plot(\n",
        "  range(len(avgmodel_inception_scores)),\n",
        "  avgmodel_inception_scores,\n",
        "  label=\"With Averaging\"\n",
        ")\n",
        "plt.xlabel(\"Epoch\")\n",
        "plt.ylabel(\"Inception Score\")\n",
        "plt.title(\"Inception Scores over Epochs\")\n",
        "plt.legend()\n",
        "plt.show()\n"
      ],
      "execution_count": null,
      "outputs": []
    },
    {
      "cell_type": "code",
      "metadata": {
        "id": "LnLnjJVzB2Mv"
      },
      "source": [
        "# rerun this to generate random images\n",
        "print(\"Without averaging\")\n",
        "show_tensor_images(gen(make_noise(25, z_dim, device=device)))\n",
        "print(\"With averaging\")\n",
        "show_tensor_images(gen2(make_noise(25, z_dim, device=device)))"
      ],
      "execution_count": null,
      "outputs": []
    },
    {
      "cell_type": "code",
      "metadata": {
        "id": "0oGyX-iWhcEG"
      },
      "source": [
        ""
      ],
      "execution_count": null,
      "outputs": []
    },
    {
      "cell_type": "markdown",
      "metadata": {
        "id": "owpmCeTFxlUc"
      },
      "source": [
        "## Inception Score"
      ]
    },
    {
      "cell_type": "markdown",
      "metadata": {
        "id": "wu3yEhkhyXqV"
      },
      "source": [
        "### Define Inception Score"
      ]
    },
    {
      "cell_type": "code",
      "metadata": {
        "id": "mXushhx5xzO6"
      },
      "source": [
        "# get inception score for p(y|x)\n",
        "# p_yx => p(y|x), where p_yx[y][x] = p(y|x)\n",
        "# eps is  arbitrarily small non-zero value\n",
        "import torchvision \n",
        "import numpy as np\n",
        "\n",
        "def getIS(p_yx, eps=(1E-16)):\n",
        "    # p(y) by averaging over x\n",
        "    p_y = p_yx.mean(axis=0)\n",
        "    p_y = np.expand_dims(p_y,0)                           # make dimensions of p_yx and p_y compatible\n",
        "    # KL-divergence for each x\n",
        "    KL = p_yx * (np.log(p_yx + eps) - np.log(p_y + eps))  # use eps to deal with possible zeros\n",
        "    # sum KL divergences over classes, and average over images\n",
        "    KLsum = KL.sum(axis=1)\n",
        "    KLavg = np.mean(KLsum)\n",
        "    is_score = np.exp(KLavg)                              # undo the logs\n",
        "    return is_score\n",
        "\n",
        "# data is the set of images\n",
        "def inception_score(data, cuda=False, batch_size=32, resize=False, n_sec=1, eps=1E-16, print_tag=False):\n",
        "    N = len(data)\n",
        "    # Set up CUDA option\n",
        "    if cuda:\n",
        "        dtype = torch.cuda.FloatTensor\n",
        "    else:\n",
        "        if torch.cuda.is_available():\n",
        "            print(\"You should use cuda=True, you can do it!\")\n",
        "        dtype = torch.FloatTensor\n",
        "    # set up data loader\n",
        "    loader = torch.utils.data.DataLoader(data, batch_size=batch_size)\n",
        "    # set up Inception V3 model\n",
        "    model = torchvision.models.inception_v3(pretrained=True, transform_input=False).type(dtype)\n",
        "    model.eval()\n",
        "    up = torch.nn.Upsample(size=(299,299), mode='bilinear', align_corners=False).type(dtype)\n",
        "\n",
        "    # helpful prediction function\n",
        "    def predict(x):\n",
        "        if resize:\n",
        "            x = up(x)\n",
        "        x = model(x)\n",
        "        return torch.nn.functional.softmax(x, dim=1).data.cpu().numpy()\n",
        "\n",
        "    # Do predictions\n",
        "    all_pyx = np.zeros((N,1000))\n",
        "    for i, batch in enumerate(loader, 0):\n",
        "        if print_tag:\n",
        "            print(\"Batch \" + str(i))\n",
        "        batch = batch.type(dtype)\n",
        "        batchv = torch.autograd.Variable(batch)\n",
        "        batch_size_i = batch.size()[0]\n",
        "        if print_tag:\n",
        "            print(\"Built batch\")\n",
        "        # actual prediction:                  Use batch_size_i to handle uneven batch\n",
        "        all_pyx[i*batch_size:i * batch_size + batch_size_i] = predict(batchv)\n",
        "        if print_tag:\n",
        "            print(\"Predicted batch\")\n",
        "\n",
        "    # Split and compute scores\n",
        "    sec_scores = []\n",
        "\n",
        "    for i in range(n_sec):\n",
        "        if print_tag:\n",
        "            print(\"Section \" + str(i))\n",
        "        sec = all_pyx[i * (N // n_sec):(i+1) * (N // n_sec), :]\n",
        "        sec_scores.append(getIS(sec, eps))\n",
        "\n",
        "    return np.mean(sec_scores), np.std(sec_scores)"
      ],
      "execution_count": null,
      "outputs": []
    },
    {
      "cell_type": "markdown",
      "metadata": {
        "id": "GjO55KKhyeCW"
      },
      "source": [
        "### Get inception score from generator"
      ]
    },
    {
      "cell_type": "code",
      "metadata": {
        "colab": {
          "base_uri": "https://localhost:8080/"
        },
        "id": "M36CywQGyU5n",
        "outputId": "8ed79bd1-0e69-4ef9-c355-9ada32915bc3"
      },
      "source": [
        "IS_SAMPLE_SIZE = 1024\n",
        "\n",
        "# First, generator random sample\n",
        "IS_noise = make_noise(IS_SAMPLE_SIZE, z_dim, device=device)\n",
        "IS_fake = gen(IS_noise)\n",
        "\n",
        "# Then, evaluate\n",
        "if torch.cuda.is_available():\n",
        "  IS = inception_score(IS_fake, cuda=True, batch_size=32, resize=True, n_sec=8)\n",
        "else:\n",
        "  IS = inception_score(IS_fake, cuda=False, batch_size=32, resize=True, n_sec=8)\n",
        "\n",
        "print(IS)"
      ],
      "execution_count": null,
      "outputs": [
        {
          "output_type": "stream",
          "text": [
            "(1.4350234636957508, 0.07838033140690355)\n"
          ],
          "name": "stdout"
        }
      ]
    },
    {
      "cell_type": "markdown",
      "metadata": {
        "id": "9TgK1RFF_fCJ"
      },
      "source": [
        "## Frechet Inception Distance (to CIFAR-10)"
      ]
    },
    {
      "cell_type": "markdown",
      "metadata": {
        "id": "RG7vZNKu_fCP"
      },
      "source": [
        "### Define FID"
      ]
    },
    {
      "cell_type": "code",
      "metadata": {
        "id": "CZhaf5qZ_fCV"
      },
      "source": [
        "from torch.utils.data import RandomSampler\n",
        "from scipy.linalg import sqrtm\n",
        "\n",
        "class IgnoreLabelDataset(torch.utils.data.Dataset):\n",
        "    def __init__(self, orig):\n",
        "        self.orig = orig\n",
        "\n",
        "    def __getitem__(self, index):\n",
        "        return self.orig[index][0]\n",
        "\n",
        "    def __len__(self):\n",
        "        return len(self.orig)\n",
        "\n",
        "def get_FID(data1, data2):\n",
        "    # calculate data set statistics\n",
        "    mu1, sigma1 = data1.mean(axis=0), np.cov(data1, rowvar=False)\n",
        "    mu2, sigma2 = data2.mean(axis=0), np.cov(data2, rowvar=False)\n",
        "    sqsumdiff = np.sum((mu1 - mu2) ** 2.0)\n",
        "    covm = sqrtm(sigma1.dot(sigma2))\n",
        "    # check and correct imaginary numbers from sqrt\n",
        "    if np.iscomplexobj(covm):\n",
        "        covm = covm.real\n",
        "    # calculate score\n",
        "    fid = sqsumdiff + np.trace(sigma1 + sigma2 - 2.0 * covm)\n",
        "    return fid\n",
        "\n",
        "# data is the set of images\n",
        "def frechet_inception_distance(data1, data2, cuda=False, batch_size=32, resize=False, print_tag=False):\n",
        "    N1 = len(data1)\n",
        "    N2 = len(data2)\n",
        "    # Set up CUDA option\n",
        "    if cuda:\n",
        "        dtype = torch.cuda.FloatTensor\n",
        "    else:\n",
        "        if torch.cuda.is_available():\n",
        "            print(\"You should use cuda=True, you can do it!\")\n",
        "        dtype = torch.FloatTensor\n",
        "    # set up data loader\n",
        "    loader1 = torch.utils.data.DataLoader(data1, batch_size=batch_size)\n",
        "    loader2 = torch.utils.data.DataLoader(data2, batch_size=batch_size)\n",
        "    # set up Inception V3 model\n",
        "    model = torchvision.models.inception_v3(pretrained=True, transform_input=False).type(dtype)\n",
        "    model.eval()\n",
        "    up = torch.nn.Upsample(size=(299,299), mode='bilinear', align_corners=False).type(dtype)\n",
        "\n",
        "    # helpful prediction function\n",
        "    def predict(x):\n",
        "        if resize:\n",
        "            x = up(x)\n",
        "        x = model(x)\n",
        "        return torch.nn.functional.softmax(x).data.cpu().numpy()\n",
        "\n",
        "    # Do predictions\n",
        "    all_pyx1 = np.zeros((N1,1000))\n",
        "    for i, batch in enumerate(loader1, 0):\n",
        "        if print_tag:\n",
        "            print(\"Batch \" + str(i))\n",
        "        batch = batch.type(dtype)\n",
        "        batchv = torch.autograd.Variable(batch)\n",
        "        batch_size_i = batch.size()[0]\n",
        "        if print_tag:\n",
        "            print(\"Built batch\")\n",
        "        # actual prediction:                  Use batch_size_i to handle uneven batch\n",
        "        all_pyx1[i*batch_size:i * batch_size + batch_size_i] = predict(batchv)\n",
        "        if print_tag:\n",
        "            print(\"Predicted batch\")\n",
        "    all_pyx2 = np.zeros((N2,1000))\n",
        "    for i, batch in enumerate(loader2, 0):\n",
        "        if print_tag:\n",
        "            print(\"Batch \" + str(i))\n",
        "        batch = batch.type(dtype)\n",
        "        batchv = torch.autograd.Variable(batch)\n",
        "        batch_size_i = batch.size()[0]\n",
        "        if print_tag:\n",
        "            print(\"Built batch\")\n",
        "        # actual prediction:                  Use batch_size_i to handle uneven batch\n",
        "        all_pyx2[i*batch_size:i * batch_size + batch_size_i] = predict(batchv)\n",
        "        if print_tag:\n",
        "            print(\"Predicted batch\")\n",
        "\n",
        "    return get_FID(all_pyx1, all_pyx2)"
      ],
      "execution_count": null,
      "outputs": []
    },
    {
      "cell_type": "markdown",
      "metadata": {
        "id": "P7q-AOCx_fCX"
      },
      "source": [
        "### Get FID from generator and sample"
      ]
    },
    {
      "cell_type": "code",
      "metadata": {
        "colab": {
          "base_uri": "https://localhost:8080/"
        },
        "id": "u-fAY3o0_fCY",
        "outputId": "20d5ab5f-2144-4af5-e5c8-b0a57a79985e"
      },
      "source": [
        "FID_SAMPLE_SIZE = 1024\n",
        "\n",
        "# First, generator random sample\n",
        "FID_noise = make_noise(FID_SAMPLE_SIZE, z_dim, device=device)\n",
        "FID_fake = gen(FID_noise)\n",
        "\n",
        "# Second, \"true\" sample (e.g. from CIFAR-10)\n",
        "cifar_data = CIFAR10(root='.', download=True, \n",
        "                     transform=torchvision.transforms.Compose([\n",
        "                                torchvision.transforms.Resize(32),\n",
        "                                torchvision.transforms.ToTensor(),\n",
        "                                torchvision.transforms.Normalize((0.5, 0.5, 0.5), (0.5, 0.5, 0.5))]))\n",
        "FID_real = IgnoreLabelDataset(\n",
        "    random_split(cifar_data,\n",
        "                 [FID_SAMPLE_SIZE, len(cifar_data) - FID_SAMPLE_SIZE])[0])\n",
        "\n",
        "# Then, evaluate\n",
        "if torch.cuda.is_available():\n",
        "  FID = frechet_inception_distance(FID_fake, FID_real,\n",
        "                                   cuda=True, batch_size=32, resize=True)\n",
        "else:\n",
        "  FID = frechet_inception_distance(FID_fake, FID_real,\n",
        "                                   cuda=False, batch_size=32, resize=True)\n",
        "print(FID)"
      ],
      "execution_count": null,
      "outputs": [
        {
          "output_type": "stream",
          "text": [
            "Files already downloaded and verified\n"
          ],
          "name": "stdout"
        },
        {
          "output_type": "stream",
          "text": [
            "/usr/local/lib/python3.6/dist-packages/ipykernel_launcher.py:51: UserWarning: Implicit dimension choice for softmax has been deprecated. Change the call to include dim=X as an argument.\n"
          ],
          "name": "stderr"
        },
        {
          "output_type": "stream",
          "text": [
            "0.21561745921523043\n"
          ],
          "name": "stdout"
        }
      ]
    },
    {
      "cell_type": "markdown",
      "metadata": {
        "id": "DZE6VNhuZsSY"
      },
      "source": [
        "# Saving Model"
      ]
    },
    {
      "cell_type": "code",
      "metadata": {
        "id": "puWG4YHzfZG5"
      },
      "source": [
        "# ================= #\n",
        "#  SAVE MODEL...    #\n",
        "# ================= #\n",
        "def save_model():\n",
        "  DISC_PATH = SAVE_MODEL_PATH + 'disc_weight.pth'\n",
        "  torch.save(disc.state_dict(), DISC_PATH)\n",
        "  GEN_PATH = SAVE_MODEL_PATH + 'gen_weight.pth'\n",
        "  torch.save(gen.state_dict(), GEN_PATH)\n",
        "\n",
        "save_model()\n"
      ],
      "execution_count": null,
      "outputs": []
    },
    {
      "cell_type": "code",
      "metadata": {
        "id": "RvCuJqMiGh1v"
      },
      "source": [
        ""
      ],
      "execution_count": null,
      "outputs": []
    },
    {
      "cell_type": "code",
      "metadata": {
        "id": "v5YRLHmeFlxw"
      },
      "source": [
        ""
      ],
      "execution_count": null,
      "outputs": []
    }
  ]
}