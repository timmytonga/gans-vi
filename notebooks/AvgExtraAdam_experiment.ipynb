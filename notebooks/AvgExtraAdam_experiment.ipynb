{
  "nbformat": 4,
  "nbformat_minor": 0,
  "metadata": {
    "colab": {
      "name": "AvgExtraAdam_experiment.ipynb",
      "provenance": [],
      "collapsed_sections": []
    },
    "kernelspec": {
      "name": "python3",
      "display_name": "Python 3"
    },
    "accelerator": "GPU",
    "widgets": {
      "application/vnd.jupyter.widget-state+json": {
        "6f9707b4f45b48c8946fa015a60d5037": {
          "model_module": "@jupyter-widgets/controls",
          "model_name": "HBoxModel",
          "state": {
            "_view_name": "HBoxView",
            "_dom_classes": [],
            "_model_name": "HBoxModel",
            "_view_module": "@jupyter-widgets/controls",
            "_model_module_version": "1.5.0",
            "_view_count": null,
            "_view_module_version": "1.5.0",
            "box_style": "",
            "layout": "IPY_MODEL_aa0deab58ce049c598d6b98e88b7f3ec",
            "_model_module": "@jupyter-widgets/controls",
            "children": [
              "IPY_MODEL_7644edd79675474595bab0dc0b7b8c9e",
              "IPY_MODEL_52108c82e35e4789ba49c9421853c77d"
            ]
          }
        },
        "aa0deab58ce049c598d6b98e88b7f3ec": {
          "model_module": "@jupyter-widgets/base",
          "model_name": "LayoutModel",
          "state": {
            "_view_name": "LayoutView",
            "grid_template_rows": null,
            "right": null,
            "justify_content": null,
            "_view_module": "@jupyter-widgets/base",
            "overflow": null,
            "_model_module_version": "1.2.0",
            "_view_count": null,
            "flex_flow": null,
            "width": null,
            "min_width": null,
            "border": null,
            "align_items": null,
            "bottom": null,
            "_model_module": "@jupyter-widgets/base",
            "top": null,
            "grid_column": null,
            "overflow_y": null,
            "overflow_x": null,
            "grid_auto_flow": null,
            "grid_area": null,
            "grid_template_columns": null,
            "flex": null,
            "_model_name": "LayoutModel",
            "justify_items": null,
            "grid_row": null,
            "max_height": null,
            "align_content": null,
            "visibility": null,
            "align_self": null,
            "height": null,
            "min_height": null,
            "padding": null,
            "grid_auto_rows": null,
            "grid_gap": null,
            "max_width": null,
            "order": null,
            "_view_module_version": "1.2.0",
            "grid_template_areas": null,
            "object_position": null,
            "object_fit": null,
            "grid_auto_columns": null,
            "margin": null,
            "display": null,
            "left": null
          }
        },
        "7644edd79675474595bab0dc0b7b8c9e": {
          "model_module": "@jupyter-widgets/controls",
          "model_name": "FloatProgressModel",
          "state": {
            "_view_name": "ProgressView",
            "style": "IPY_MODEL_4e5f104844bb4e29a75a2fd624248879",
            "_dom_classes": [],
            "description": "",
            "_model_name": "FloatProgressModel",
            "bar_style": "success",
            "max": 1,
            "_view_module": "@jupyter-widgets/controls",
            "_model_module_version": "1.5.0",
            "value": 1,
            "_view_count": null,
            "_view_module_version": "1.5.0",
            "orientation": "horizontal",
            "min": 0,
            "description_tooltip": null,
            "_model_module": "@jupyter-widgets/controls",
            "layout": "IPY_MODEL_cd1b116370b14be5a90295027cf71bb1"
          }
        },
        "52108c82e35e4789ba49c9421853c77d": {
          "model_module": "@jupyter-widgets/controls",
          "model_name": "HTMLModel",
          "state": {
            "_view_name": "HTMLView",
            "style": "IPY_MODEL_fc5091837cc541248cc2a7ab719f256a",
            "_dom_classes": [],
            "description": "",
            "_model_name": "HTMLModel",
            "placeholder": "​",
            "_view_module": "@jupyter-widgets/controls",
            "_model_module_version": "1.5.0",
            "value": " 170500096/? [00:05&lt;00:00, 28620590.16it/s]",
            "_view_count": null,
            "_view_module_version": "1.5.0",
            "description_tooltip": null,
            "_model_module": "@jupyter-widgets/controls",
            "layout": "IPY_MODEL_105d16fed01041a190884f41f9ad9c2c"
          }
        },
        "4e5f104844bb4e29a75a2fd624248879": {
          "model_module": "@jupyter-widgets/controls",
          "model_name": "ProgressStyleModel",
          "state": {
            "_view_name": "StyleView",
            "_model_name": "ProgressStyleModel",
            "description_width": "initial",
            "_view_module": "@jupyter-widgets/base",
            "_model_module_version": "1.5.0",
            "_view_count": null,
            "_view_module_version": "1.2.0",
            "bar_color": null,
            "_model_module": "@jupyter-widgets/controls"
          }
        },
        "cd1b116370b14be5a90295027cf71bb1": {
          "model_module": "@jupyter-widgets/base",
          "model_name": "LayoutModel",
          "state": {
            "_view_name": "LayoutView",
            "grid_template_rows": null,
            "right": null,
            "justify_content": null,
            "_view_module": "@jupyter-widgets/base",
            "overflow": null,
            "_model_module_version": "1.2.0",
            "_view_count": null,
            "flex_flow": null,
            "width": null,
            "min_width": null,
            "border": null,
            "align_items": null,
            "bottom": null,
            "_model_module": "@jupyter-widgets/base",
            "top": null,
            "grid_column": null,
            "overflow_y": null,
            "overflow_x": null,
            "grid_auto_flow": null,
            "grid_area": null,
            "grid_template_columns": null,
            "flex": null,
            "_model_name": "LayoutModel",
            "justify_items": null,
            "grid_row": null,
            "max_height": null,
            "align_content": null,
            "visibility": null,
            "align_self": null,
            "height": null,
            "min_height": null,
            "padding": null,
            "grid_auto_rows": null,
            "grid_gap": null,
            "max_width": null,
            "order": null,
            "_view_module_version": "1.2.0",
            "grid_template_areas": null,
            "object_position": null,
            "object_fit": null,
            "grid_auto_columns": null,
            "margin": null,
            "display": null,
            "left": null
          }
        },
        "fc5091837cc541248cc2a7ab719f256a": {
          "model_module": "@jupyter-widgets/controls",
          "model_name": "DescriptionStyleModel",
          "state": {
            "_view_name": "StyleView",
            "_model_name": "DescriptionStyleModel",
            "description_width": "",
            "_view_module": "@jupyter-widgets/base",
            "_model_module_version": "1.5.0",
            "_view_count": null,
            "_view_module_version": "1.2.0",
            "_model_module": "@jupyter-widgets/controls"
          }
        },
        "105d16fed01041a190884f41f9ad9c2c": {
          "model_module": "@jupyter-widgets/base",
          "model_name": "LayoutModel",
          "state": {
            "_view_name": "LayoutView",
            "grid_template_rows": null,
            "right": null,
            "justify_content": null,
            "_view_module": "@jupyter-widgets/base",
            "overflow": null,
            "_model_module_version": "1.2.0",
            "_view_count": null,
            "flex_flow": null,
            "width": null,
            "min_width": null,
            "border": null,
            "align_items": null,
            "bottom": null,
            "_model_module": "@jupyter-widgets/base",
            "top": null,
            "grid_column": null,
            "overflow_y": null,
            "overflow_x": null,
            "grid_auto_flow": null,
            "grid_area": null,
            "grid_template_columns": null,
            "flex": null,
            "_model_name": "LayoutModel",
            "justify_items": null,
            "grid_row": null,
            "max_height": null,
            "align_content": null,
            "visibility": null,
            "align_self": null,
            "height": null,
            "min_height": null,
            "padding": null,
            "grid_auto_rows": null,
            "grid_gap": null,
            "max_width": null,
            "order": null,
            "_view_module_version": "1.2.0",
            "grid_template_areas": null,
            "object_position": null,
            "object_fit": null,
            "grid_auto_columns": null,
            "margin": null,
            "display": null,
            "left": null
          }
        },
        "3419fac49b444029b3d08269cc13a2c5": {
          "model_module": "@jupyter-widgets/controls",
          "model_name": "HBoxModel",
          "state": {
            "_view_name": "HBoxView",
            "_dom_classes": [],
            "_model_name": "HBoxModel",
            "_view_module": "@jupyter-widgets/controls",
            "_model_module_version": "1.5.0",
            "_view_count": null,
            "_view_module_version": "1.5.0",
            "box_style": "",
            "layout": "IPY_MODEL_56ccd899d34e4d34913111bb85d39498",
            "_model_module": "@jupyter-widgets/controls",
            "children": [
              "IPY_MODEL_becc8a285dd3406b80d4a703d4b30f0f",
              "IPY_MODEL_866c0920d2114989aab5f558c30228c2"
            ]
          }
        },
        "56ccd899d34e4d34913111bb85d39498": {
          "model_module": "@jupyter-widgets/base",
          "model_name": "LayoutModel",
          "state": {
            "_view_name": "LayoutView",
            "grid_template_rows": null,
            "right": null,
            "justify_content": null,
            "_view_module": "@jupyter-widgets/base",
            "overflow": null,
            "_model_module_version": "1.2.0",
            "_view_count": null,
            "flex_flow": null,
            "width": null,
            "min_width": null,
            "border": null,
            "align_items": null,
            "bottom": null,
            "_model_module": "@jupyter-widgets/base",
            "top": null,
            "grid_column": null,
            "overflow_y": null,
            "overflow_x": null,
            "grid_auto_flow": null,
            "grid_area": null,
            "grid_template_columns": null,
            "flex": null,
            "_model_name": "LayoutModel",
            "justify_items": null,
            "grid_row": null,
            "max_height": null,
            "align_content": null,
            "visibility": null,
            "align_self": null,
            "height": null,
            "min_height": null,
            "padding": null,
            "grid_auto_rows": null,
            "grid_gap": null,
            "max_width": null,
            "order": null,
            "_view_module_version": "1.2.0",
            "grid_template_areas": null,
            "object_position": null,
            "object_fit": null,
            "grid_auto_columns": null,
            "margin": null,
            "display": null,
            "left": null
          }
        },
        "becc8a285dd3406b80d4a703d4b30f0f": {
          "model_module": "@jupyter-widgets/controls",
          "model_name": "FloatProgressModel",
          "state": {
            "_view_name": "ProgressView",
            "style": "IPY_MODEL_ec3fd46df37d4583bad4aba8eb3e8e5b",
            "_dom_classes": [],
            "description": "100%",
            "_model_name": "FloatProgressModel",
            "bar_style": "success",
            "max": 108857766,
            "_view_module": "@jupyter-widgets/controls",
            "_model_module_version": "1.5.0",
            "value": 108857766,
            "_view_count": null,
            "_view_module_version": "1.5.0",
            "orientation": "horizontal",
            "min": 0,
            "description_tooltip": null,
            "_model_module": "@jupyter-widgets/controls",
            "layout": "IPY_MODEL_4a9024273b5c46fd918e7aaa21affd14"
          }
        },
        "866c0920d2114989aab5f558c30228c2": {
          "model_module": "@jupyter-widgets/controls",
          "model_name": "HTMLModel",
          "state": {
            "_view_name": "HTMLView",
            "style": "IPY_MODEL_c853eedc7e434bcf87a30c5104c8066c",
            "_dom_classes": [],
            "description": "",
            "_model_name": "HTMLModel",
            "placeholder": "​",
            "_view_module": "@jupyter-widgets/controls",
            "_model_module_version": "1.5.0",
            "value": " 104M/104M [00:19&lt;00:00, 5.58MB/s]",
            "_view_count": null,
            "_view_module_version": "1.5.0",
            "description_tooltip": null,
            "_model_module": "@jupyter-widgets/controls",
            "layout": "IPY_MODEL_9805d53fb440484085f33ddc56e386fa"
          }
        },
        "ec3fd46df37d4583bad4aba8eb3e8e5b": {
          "model_module": "@jupyter-widgets/controls",
          "model_name": "ProgressStyleModel",
          "state": {
            "_view_name": "StyleView",
            "_model_name": "ProgressStyleModel",
            "description_width": "initial",
            "_view_module": "@jupyter-widgets/base",
            "_model_module_version": "1.5.0",
            "_view_count": null,
            "_view_module_version": "1.2.0",
            "bar_color": null,
            "_model_module": "@jupyter-widgets/controls"
          }
        },
        "4a9024273b5c46fd918e7aaa21affd14": {
          "model_module": "@jupyter-widgets/base",
          "model_name": "LayoutModel",
          "state": {
            "_view_name": "LayoutView",
            "grid_template_rows": null,
            "right": null,
            "justify_content": null,
            "_view_module": "@jupyter-widgets/base",
            "overflow": null,
            "_model_module_version": "1.2.0",
            "_view_count": null,
            "flex_flow": null,
            "width": null,
            "min_width": null,
            "border": null,
            "align_items": null,
            "bottom": null,
            "_model_module": "@jupyter-widgets/base",
            "top": null,
            "grid_column": null,
            "overflow_y": null,
            "overflow_x": null,
            "grid_auto_flow": null,
            "grid_area": null,
            "grid_template_columns": null,
            "flex": null,
            "_model_name": "LayoutModel",
            "justify_items": null,
            "grid_row": null,
            "max_height": null,
            "align_content": null,
            "visibility": null,
            "align_self": null,
            "height": null,
            "min_height": null,
            "padding": null,
            "grid_auto_rows": null,
            "grid_gap": null,
            "max_width": null,
            "order": null,
            "_view_module_version": "1.2.0",
            "grid_template_areas": null,
            "object_position": null,
            "object_fit": null,
            "grid_auto_columns": null,
            "margin": null,
            "display": null,
            "left": null
          }
        },
        "c853eedc7e434bcf87a30c5104c8066c": {
          "model_module": "@jupyter-widgets/controls",
          "model_name": "DescriptionStyleModel",
          "state": {
            "_view_name": "StyleView",
            "_model_name": "DescriptionStyleModel",
            "description_width": "",
            "_view_module": "@jupyter-widgets/base",
            "_model_module_version": "1.5.0",
            "_view_count": null,
            "_view_module_version": "1.2.0",
            "_model_module": "@jupyter-widgets/controls"
          }
        },
        "9805d53fb440484085f33ddc56e386fa": {
          "model_module": "@jupyter-widgets/base",
          "model_name": "LayoutModel",
          "state": {
            "_view_name": "LayoutView",
            "grid_template_rows": null,
            "right": null,
            "justify_content": null,
            "_view_module": "@jupyter-widgets/base",
            "overflow": null,
            "_model_module_version": "1.2.0",
            "_view_count": null,
            "flex_flow": null,
            "width": null,
            "min_width": null,
            "border": null,
            "align_items": null,
            "bottom": null,
            "_model_module": "@jupyter-widgets/base",
            "top": null,
            "grid_column": null,
            "overflow_y": null,
            "overflow_x": null,
            "grid_auto_flow": null,
            "grid_area": null,
            "grid_template_columns": null,
            "flex": null,
            "_model_name": "LayoutModel",
            "justify_items": null,
            "grid_row": null,
            "max_height": null,
            "align_content": null,
            "visibility": null,
            "align_self": null,
            "height": null,
            "min_height": null,
            "padding": null,
            "grid_auto_rows": null,
            "grid_gap": null,
            "max_width": null,
            "order": null,
            "_view_module_version": "1.2.0",
            "grid_template_areas": null,
            "object_position": null,
            "object_fit": null,
            "grid_auto_columns": null,
            "margin": null,
            "display": null,
            "left": null
          }
        },
        "76241f83a84c4fc9ac40a3c605d6de27": {
          "model_module": "@jupyter-widgets/controls",
          "model_name": "HBoxModel",
          "state": {
            "_view_name": "HBoxView",
            "_dom_classes": [],
            "_model_name": "HBoxModel",
            "_view_module": "@jupyter-widgets/controls",
            "_model_module_version": "1.5.0",
            "_view_count": null,
            "_view_module_version": "1.5.0",
            "box_style": "",
            "layout": "IPY_MODEL_cdd1cadade3449228d7bf3baa5c89ddb",
            "_model_module": "@jupyter-widgets/controls",
            "children": [
              "IPY_MODEL_d3391be00e554e08b85811a79b77cb36",
              "IPY_MODEL_40c3a95359aa49d4a3f07de5369a3ac9"
            ]
          }
        },
        "cdd1cadade3449228d7bf3baa5c89ddb": {
          "model_module": "@jupyter-widgets/base",
          "model_name": "LayoutModel",
          "state": {
            "_view_name": "LayoutView",
            "grid_template_rows": null,
            "right": null,
            "justify_content": null,
            "_view_module": "@jupyter-widgets/base",
            "overflow": null,
            "_model_module_version": "1.2.0",
            "_view_count": null,
            "flex_flow": null,
            "width": null,
            "min_width": null,
            "border": null,
            "align_items": null,
            "bottom": null,
            "_model_module": "@jupyter-widgets/base",
            "top": null,
            "grid_column": null,
            "overflow_y": null,
            "overflow_x": null,
            "grid_auto_flow": null,
            "grid_area": null,
            "grid_template_columns": null,
            "flex": null,
            "_model_name": "LayoutModel",
            "justify_items": null,
            "grid_row": null,
            "max_height": null,
            "align_content": null,
            "visibility": null,
            "align_self": null,
            "height": null,
            "min_height": null,
            "padding": null,
            "grid_auto_rows": null,
            "grid_gap": null,
            "max_width": null,
            "order": null,
            "_view_module_version": "1.2.0",
            "grid_template_areas": null,
            "object_position": null,
            "object_fit": null,
            "grid_auto_columns": null,
            "margin": null,
            "display": null,
            "left": null
          }
        },
        "d3391be00e554e08b85811a79b77cb36": {
          "model_module": "@jupyter-widgets/controls",
          "model_name": "FloatProgressModel",
          "state": {
            "_view_name": "ProgressView",
            "style": "IPY_MODEL_d55765eb59f24e079c9b079e7e6c72f2",
            "_dom_classes": [],
            "description": "100%",
            "_model_name": "FloatProgressModel",
            "bar_style": "success",
            "max": 782,
            "_view_module": "@jupyter-widgets/controls",
            "_model_module_version": "1.5.0",
            "value": 782,
            "_view_count": null,
            "_view_module_version": "1.5.0",
            "orientation": "horizontal",
            "min": 0,
            "description_tooltip": null,
            "_model_module": "@jupyter-widgets/controls",
            "layout": "IPY_MODEL_e9ffa11476cc41bc990fc8874fcadd52"
          }
        },
        "40c3a95359aa49d4a3f07de5369a3ac9": {
          "model_module": "@jupyter-widgets/controls",
          "model_name": "HTMLModel",
          "state": {
            "_view_name": "HTMLView",
            "style": "IPY_MODEL_6a7089ef22db4a66abf76bec25c4147b",
            "_dom_classes": [],
            "description": "",
            "_model_name": "HTMLModel",
            "placeholder": "​",
            "_view_module": "@jupyter-widgets/controls",
            "_model_module_version": "1.5.0",
            "value": " 782/782 [02:14&lt;00:00,  5.83it/s]",
            "_view_count": null,
            "_view_module_version": "1.5.0",
            "description_tooltip": null,
            "_model_module": "@jupyter-widgets/controls",
            "layout": "IPY_MODEL_8def89ed4ee944c99a4908a123320440"
          }
        },
        "d55765eb59f24e079c9b079e7e6c72f2": {
          "model_module": "@jupyter-widgets/controls",
          "model_name": "ProgressStyleModel",
          "state": {
            "_view_name": "StyleView",
            "_model_name": "ProgressStyleModel",
            "description_width": "initial",
            "_view_module": "@jupyter-widgets/base",
            "_model_module_version": "1.5.0",
            "_view_count": null,
            "_view_module_version": "1.2.0",
            "bar_color": null,
            "_model_module": "@jupyter-widgets/controls"
          }
        },
        "e9ffa11476cc41bc990fc8874fcadd52": {
          "model_module": "@jupyter-widgets/base",
          "model_name": "LayoutModel",
          "state": {
            "_view_name": "LayoutView",
            "grid_template_rows": null,
            "right": null,
            "justify_content": null,
            "_view_module": "@jupyter-widgets/base",
            "overflow": null,
            "_model_module_version": "1.2.0",
            "_view_count": null,
            "flex_flow": null,
            "width": null,
            "min_width": null,
            "border": null,
            "align_items": null,
            "bottom": null,
            "_model_module": "@jupyter-widgets/base",
            "top": null,
            "grid_column": null,
            "overflow_y": null,
            "overflow_x": null,
            "grid_auto_flow": null,
            "grid_area": null,
            "grid_template_columns": null,
            "flex": null,
            "_model_name": "LayoutModel",
            "justify_items": null,
            "grid_row": null,
            "max_height": null,
            "align_content": null,
            "visibility": null,
            "align_self": null,
            "height": null,
            "min_height": null,
            "padding": null,
            "grid_auto_rows": null,
            "grid_gap": null,
            "max_width": null,
            "order": null,
            "_view_module_version": "1.2.0",
            "grid_template_areas": null,
            "object_position": null,
            "object_fit": null,
            "grid_auto_columns": null,
            "margin": null,
            "display": null,
            "left": null
          }
        },
        "6a7089ef22db4a66abf76bec25c4147b": {
          "model_module": "@jupyter-widgets/controls",
          "model_name": "DescriptionStyleModel",
          "state": {
            "_view_name": "StyleView",
            "_model_name": "DescriptionStyleModel",
            "description_width": "",
            "_view_module": "@jupyter-widgets/base",
            "_model_module_version": "1.5.0",
            "_view_count": null,
            "_view_module_version": "1.2.0",
            "_model_module": "@jupyter-widgets/controls"
          }
        },
        "8def89ed4ee944c99a4908a123320440": {
          "model_module": "@jupyter-widgets/base",
          "model_name": "LayoutModel",
          "state": {
            "_view_name": "LayoutView",
            "grid_template_rows": null,
            "right": null,
            "justify_content": null,
            "_view_module": "@jupyter-widgets/base",
            "overflow": null,
            "_model_module_version": "1.2.0",
            "_view_count": null,
            "flex_flow": null,
            "width": null,
            "min_width": null,
            "border": null,
            "align_items": null,
            "bottom": null,
            "_model_module": "@jupyter-widgets/base",
            "top": null,
            "grid_column": null,
            "overflow_y": null,
            "overflow_x": null,
            "grid_auto_flow": null,
            "grid_area": null,
            "grid_template_columns": null,
            "flex": null,
            "_model_name": "LayoutModel",
            "justify_items": null,
            "grid_row": null,
            "max_height": null,
            "align_content": null,
            "visibility": null,
            "align_self": null,
            "height": null,
            "min_height": null,
            "padding": null,
            "grid_auto_rows": null,
            "grid_gap": null,
            "max_width": null,
            "order": null,
            "_view_module_version": "1.2.0",
            "grid_template_areas": null,
            "object_position": null,
            "object_fit": null,
            "grid_auto_columns": null,
            "margin": null,
            "display": null,
            "left": null
          }
        },
        "ba2a0d64c369415fbc4f095fb9ec5020": {
          "model_module": "@jupyter-widgets/controls",
          "model_name": "HBoxModel",
          "state": {
            "_view_name": "HBoxView",
            "_dom_classes": [],
            "_model_name": "HBoxModel",
            "_view_module": "@jupyter-widgets/controls",
            "_model_module_version": "1.5.0",
            "_view_count": null,
            "_view_module_version": "1.5.0",
            "box_style": "",
            "layout": "IPY_MODEL_5d89f956f89e44a4814f7a0b1c1c8591",
            "_model_module": "@jupyter-widgets/controls",
            "children": [
              "IPY_MODEL_f6cf57d8b4714d889197b2957cddb4ae",
              "IPY_MODEL_7be9b7ee7d2f4c10917da302d8dae95f"
            ]
          }
        },
        "5d89f956f89e44a4814f7a0b1c1c8591": {
          "model_module": "@jupyter-widgets/base",
          "model_name": "LayoutModel",
          "state": {
            "_view_name": "LayoutView",
            "grid_template_rows": null,
            "right": null,
            "justify_content": null,
            "_view_module": "@jupyter-widgets/base",
            "overflow": null,
            "_model_module_version": "1.2.0",
            "_view_count": null,
            "flex_flow": null,
            "width": null,
            "min_width": null,
            "border": null,
            "align_items": null,
            "bottom": null,
            "_model_module": "@jupyter-widgets/base",
            "top": null,
            "grid_column": null,
            "overflow_y": null,
            "overflow_x": null,
            "grid_auto_flow": null,
            "grid_area": null,
            "grid_template_columns": null,
            "flex": null,
            "_model_name": "LayoutModel",
            "justify_items": null,
            "grid_row": null,
            "max_height": null,
            "align_content": null,
            "visibility": null,
            "align_self": null,
            "height": null,
            "min_height": null,
            "padding": null,
            "grid_auto_rows": null,
            "grid_gap": null,
            "max_width": null,
            "order": null,
            "_view_module_version": "1.2.0",
            "grid_template_areas": null,
            "object_position": null,
            "object_fit": null,
            "grid_auto_columns": null,
            "margin": null,
            "display": null,
            "left": null
          }
        },
        "f6cf57d8b4714d889197b2957cddb4ae": {
          "model_module": "@jupyter-widgets/controls",
          "model_name": "FloatProgressModel",
          "state": {
            "_view_name": "ProgressView",
            "style": "IPY_MODEL_13fffaea6aa44bbb8f980edf5b66bd5d",
            "_dom_classes": [],
            "description": " 19%",
            "_model_name": "FloatProgressModel",
            "bar_style": "",
            "max": 782,
            "_view_module": "@jupyter-widgets/controls",
            "_model_module_version": "1.5.0",
            "value": 148,
            "_view_count": null,
            "_view_module_version": "1.5.0",
            "orientation": "horizontal",
            "min": 0,
            "description_tooltip": null,
            "_model_module": "@jupyter-widgets/controls",
            "layout": "IPY_MODEL_1a8048ef0e5e4e838c0456d3050349a2"
          }
        },
        "7be9b7ee7d2f4c10917da302d8dae95f": {
          "model_module": "@jupyter-widgets/controls",
          "model_name": "HTMLModel",
          "state": {
            "_view_name": "HTMLView",
            "style": "IPY_MODEL_12918c24f541427ea71a0a42736d66b4",
            "_dom_classes": [],
            "description": "",
            "_model_name": "HTMLModel",
            "placeholder": "​",
            "_view_module": "@jupyter-widgets/controls",
            "_model_module_version": "1.5.0",
            "value": " 148/782 [00:25&lt;01:50,  5.76it/s]",
            "_view_count": null,
            "_view_module_version": "1.5.0",
            "description_tooltip": null,
            "_model_module": "@jupyter-widgets/controls",
            "layout": "IPY_MODEL_4f5161079ad846f1acfb8416305d035e"
          }
        },
        "13fffaea6aa44bbb8f980edf5b66bd5d": {
          "model_module": "@jupyter-widgets/controls",
          "model_name": "ProgressStyleModel",
          "state": {
            "_view_name": "StyleView",
            "_model_name": "ProgressStyleModel",
            "description_width": "initial",
            "_view_module": "@jupyter-widgets/base",
            "_model_module_version": "1.5.0",
            "_view_count": null,
            "_view_module_version": "1.2.0",
            "bar_color": null,
            "_model_module": "@jupyter-widgets/controls"
          }
        },
        "1a8048ef0e5e4e838c0456d3050349a2": {
          "model_module": "@jupyter-widgets/base",
          "model_name": "LayoutModel",
          "state": {
            "_view_name": "LayoutView",
            "grid_template_rows": null,
            "right": null,
            "justify_content": null,
            "_view_module": "@jupyter-widgets/base",
            "overflow": null,
            "_model_module_version": "1.2.0",
            "_view_count": null,
            "flex_flow": null,
            "width": null,
            "min_width": null,
            "border": null,
            "align_items": null,
            "bottom": null,
            "_model_module": "@jupyter-widgets/base",
            "top": null,
            "grid_column": null,
            "overflow_y": null,
            "overflow_x": null,
            "grid_auto_flow": null,
            "grid_area": null,
            "grid_template_columns": null,
            "flex": null,
            "_model_name": "LayoutModel",
            "justify_items": null,
            "grid_row": null,
            "max_height": null,
            "align_content": null,
            "visibility": null,
            "align_self": null,
            "height": null,
            "min_height": null,
            "padding": null,
            "grid_auto_rows": null,
            "grid_gap": null,
            "max_width": null,
            "order": null,
            "_view_module_version": "1.2.0",
            "grid_template_areas": null,
            "object_position": null,
            "object_fit": null,
            "grid_auto_columns": null,
            "margin": null,
            "display": null,
            "left": null
          }
        },
        "12918c24f541427ea71a0a42736d66b4": {
          "model_module": "@jupyter-widgets/controls",
          "model_name": "DescriptionStyleModel",
          "state": {
            "_view_name": "StyleView",
            "_model_name": "DescriptionStyleModel",
            "description_width": "",
            "_view_module": "@jupyter-widgets/base",
            "_model_module_version": "1.5.0",
            "_view_count": null,
            "_view_module_version": "1.2.0",
            "_model_module": "@jupyter-widgets/controls"
          }
        },
        "4f5161079ad846f1acfb8416305d035e": {
          "model_module": "@jupyter-widgets/base",
          "model_name": "LayoutModel",
          "state": {
            "_view_name": "LayoutView",
            "grid_template_rows": null,
            "right": null,
            "justify_content": null,
            "_view_module": "@jupyter-widgets/base",
            "overflow": null,
            "_model_module_version": "1.2.0",
            "_view_count": null,
            "flex_flow": null,
            "width": null,
            "min_width": null,
            "border": null,
            "align_items": null,
            "bottom": null,
            "_model_module": "@jupyter-widgets/base",
            "top": null,
            "grid_column": null,
            "overflow_y": null,
            "overflow_x": null,
            "grid_auto_flow": null,
            "grid_area": null,
            "grid_template_columns": null,
            "flex": null,
            "_model_name": "LayoutModel",
            "justify_items": null,
            "grid_row": null,
            "max_height": null,
            "align_content": null,
            "visibility": null,
            "align_self": null,
            "height": null,
            "min_height": null,
            "padding": null,
            "grid_auto_rows": null,
            "grid_gap": null,
            "max_width": null,
            "order": null,
            "_view_module_version": "1.2.0",
            "grid_template_areas": null,
            "object_position": null,
            "object_fit": null,
            "grid_auto_columns": null,
            "margin": null,
            "display": null,
            "left": null
          }
        }
      }
    }
  },
  "cells": [
    {
      "cell_type": "markdown",
      "metadata": {
        "id": "6mZ8xON9eD5V"
      },
      "source": [
        "**CS6140 Final project: DCGAN with WGAN-GP trainer**"
      ]
    },
    {
      "cell_type": "markdown",
      "metadata": {
        "id": "FVv4Q0gTYlCH"
      },
      "source": [
        "# Import and defining classes"
      ]
    },
    {
      "cell_type": "code",
      "metadata": {
        "id": "O9XKlZOlm2b0",
        "colab": {
          "base_uri": "https://localhost:8080/"
        },
        "outputId": "d703592a-58c4-422a-a70a-6aaec975eaf8"
      },
      "source": [
        "    # === Uncomment to clone and access repo \n",
        "!git clone https://github.com/timmytonga/gans-vi \n",
        "%cd gans-vi\n",
        "# !git pull\n",
        "!ls"
      ],
      "execution_count": null,
      "outputs": [
        {
          "output_type": "stream",
          "text": [
            "Cloning into 'gans-vi'...\n",
            "remote: Enumerating objects: 105, done.\u001b[K\n",
            "remote: Counting objects: 100% (105/105), done.\u001b[K\n",
            "remote: Compressing objects: 100% (85/85), done.\u001b[K\n",
            "remote: Total 105 (delta 64), reused 48 (delta 20), pack-reused 0\u001b[K\n",
            "Receiving objects: 100% (105/105), 35.98 KiB | 9.00 MiB/s, done.\n",
            "Resolving deltas: 100% (64/64), done.\n",
            "/content/gans-vi\n",
            "dcgan_models.py      inception_score.py\t\t train_wgan_gp.py\n",
            "extraSGD.py\t     README.md\t\t\t utils.py\n",
            "fit_extrapastsgd.py  train_wgan_gp_extrapast.py  wgan_gp_loss.py\n",
            "fit_extrasgd.py      train_wgan_gp_extra.py\n"
          ],
          "name": "stdout"
        }
      ]
    },
    {
      "cell_type": "code",
      "metadata": {
        "id": "yGYGX9ZJT0h4",
        "colab": {
          "base_uri": "https://localhost:8080/"
        },
        "outputId": "9ba9e77d-7841-4a20-d0b0-b5920faafd4c"
      },
      "source": [
        "import torch\n",
        "import matplotlib.pyplot as plt\n",
        "from torch import nn\n",
        "from torch.utils.data import DataLoader\n",
        "# torchvision\n",
        "from torchvision.datasets import CIFAR10\n",
        "import torchvision.transforms as transforms\n",
        "\n",
        "from dcgan_models import Generator, Discriminator\n",
        "from wgan_gp_loss import disc_loss_wgan_gp, gen_loss_wgan_gp\n",
        "from utils import make_noise, show_tensor_images, get_cur_timestamp\n",
        "\n",
        "\n",
        "from tqdm.auto import tqdm  # for visualizing progress per epoch\n",
        "import time\n",
        "\n",
        "print(torch.cuda.get_device_name())"
      ],
      "execution_count": null,
      "outputs": [
        {
          "output_type": "stream",
          "text": [
            "Tesla T4\n"
          ],
          "name": "stdout"
        }
      ]
    },
    {
      "cell_type": "markdown",
      "metadata": {
        "id": "VZDx7kkvNII8"
      },
      "source": [
        "### [Optional] Setting up Google Drive for Loading and Saving checkpoints"
      ]
    },
    {
      "cell_type": "code",
      "metadata": {
        "id": "MDmicxhpvZDI",
        "colab": {
          "base_uri": "https://localhost:8080/"
        },
        "outputId": "1bfa3cc3-e684-459c-fc8f-88059e6581aa"
      },
      "source": [
        "# first, setting up check-point directory (we want this to be on a permanent storage like google drive or local)\n",
        "# first mount the google drive here, hello\n",
        "from google.colab import drive\n",
        "drive.mount('/content/drive')"
      ],
      "execution_count": null,
      "outputs": [
        {
          "output_type": "stream",
          "text": [
            "Mounted at /content/drive\n"
          ],
          "name": "stdout"
        }
      ]
    },
    {
      "cell_type": "code",
      "metadata": {
        "id": "4mLaAHnxTFu1",
        "colab": {
          "base_uri": "https://localhost:8080/"
        },
        "outputId": "fa6af29d-b994-4b11-83b0-b49e7d222d0d"
      },
      "source": [
        "!ls ../drive/My\\ Drive/cs6140/gan_avgdam_norm_checkpt"
      ],
      "execution_count": null,
      "outputs": [
        {
          "output_type": "stream",
          "text": [
            "'[19-Nov-2020(16:37)]10avgextraAdam.pt'\n",
            "'[19-Nov-2020(16:58)]20avgextraAdam.pt'\n",
            "'[19-Nov-2020(17:20)]30avgextraAdam.pt'\n",
            "'[19-Nov-2020(17:42)]40avgextraAdam.pt'\n",
            "'[19-Nov-2020(18:03)]50avgextraAdam.pt'\n",
            "'[19-Nov-2020(18:25)]60avgextraAdam.pt'\n",
            "'[19-Nov-2020(18:47)]70avgextraAdam.pt'\n",
            "'[19-Nov-2020(19:08)]80avgextraAdam.pt'\n",
            "'[19-Nov-2020(19:30)]90avgextraAdam.pt'\n",
            "'[19-Nov-2020(20:05)]100avgextraAdam.pt'\n",
            "'[19-Nov-2020(20:27)]110avgextraAdam.pt'\n"
          ],
          "name": "stdout"
        }
      ]
    },
    {
      "cell_type": "markdown",
      "metadata": {
        "id": "NqqwsKa0Yt_B"
      },
      "source": [
        "# TRAINING"
      ]
    },
    {
      "cell_type": "code",
      "metadata": {
        "id": "0NSzES3SUFH1",
        "colab": {
          "base_uri": "https://localhost:8080/"
        },
        "outputId": "8dad9cc0-74a5-4c46-8d63-fb1296e99797"
      },
      "source": [
        "# =========================================================================== #\n",
        "#                  FIRST, MUST MAKE SURE PATHS ARE CORRECT                    #\n",
        "# =========================================================================== #\n",
        "CHECKPOINT_PATH=\"/content/drive/My Drive/cs6140/gan_avgdam_norm_checkpt/\"\n",
        "SAVE_MODEL_PATH=\"/content/drive/My Drive/cs6140/gan_model/\"\n",
        "DISC_PATH = SAVE_MODEL_PATH + 'disc_weight.pth'\n",
        "GEN_PATH = SAVE_MODEL_PATH + 'gen_weight.pth'\n",
        "\n",
        "\n",
        "# =========================================================================== #\n",
        "#                  SET ANY CHECKPOINT FILE HERE (ignore if no checkpoint)     #\n",
        "# =========================================================================== #\n",
        "CHECKPOINTFILENAME = \"[19-Nov-2020(20:27)]110avgextraAdam.pt\"\n",
        "CHECKPOINTFILEPATH = CHECKPOINT_PATH + CHECKPOINTFILENAME  # change the last part\n",
        "ENABLE_CHECKPOINT = True\n",
        "\n",
        "print(torch.cuda.get_device_capability())"
      ],
      "execution_count": null,
      "outputs": [
        {
          "output_type": "stream",
          "text": [
            "(7, 5)\n"
          ],
          "name": "stdout"
        }
      ]
    },
    {
      "cell_type": "code",
      "metadata": {
        "id": "uRuUR_JuTW6G"
      },
      "source": [
        "# =========================================================================== #\n",
        "#                  GET MODELS                                                 #\n",
        "# =========================================================================== #\n",
        "from dcgan_models import Discriminator, Generator\n",
        "\n",
        "wgan_gp = True    # do we want to do WGAN or WGAN-GP?\n",
        "\n",
        "device = 'cpu'\n",
        "if torch.cuda.is_available():  # use gpu if available\n",
        "\tdevice = 'cuda'\n",
        "\n",
        "\n",
        "gen = Generator().to(device)\n",
        "disc = Discriminator(wgan_gp=wgan_gp).to(device)\n",
        "gen2 = Generator().to(device)\n",
        "disc2 = Discriminator(wgan_gp=wgan_gp).to(device) "
      ],
      "execution_count": null,
      "outputs": []
    },
    {
      "cell_type": "markdown",
      "metadata": {
        "id": "jWs_IDXQbn-R"
      },
      "source": [
        "### Setting up hyperparameters and environment variables"
      ]
    },
    {
      "cell_type": "code",
      "metadata": {
        "id": "OtEDGCFZF9nT",
        "colab": {
          "base_uri": "https://localhost:8080/",
          "height": 386,
          "referenced_widgets": [
            "6f9707b4f45b48c8946fa015a60d5037",
            "aa0deab58ce049c598d6b98e88b7f3ec",
            "7644edd79675474595bab0dc0b7b8c9e",
            "52108c82e35e4789ba49c9421853c77d",
            "4e5f104844bb4e29a75a2fd624248879",
            "cd1b116370b14be5a90295027cf71bb1",
            "fc5091837cc541248cc2a7ab719f256a",
            "105d16fed01041a190884f41f9ad9c2c"
          ]
        },
        "outputId": "ec98c8d0-f101-4dea-c36c-b5ca49bbcb46"
      },
      "source": [
        "# =========================================================================== #\n",
        "#                   HYPERPARAMETERS AND TRAINING DATA                         #\n",
        "# =========================================================================== #\n",
        "z_dim = 128\n",
        "lr_gen = 0.0005      # learning rate\n",
        "lr_disc = 0.0005\n",
        "if wgan_gp:       # according to varineq paper\n",
        "\tlr = 0.0001\n",
        "beta_1 = 0.5      # first moment's momentum (ADAM hyperparam)\n",
        "beta_2 = 0.9      # second moment's momentum\n",
        "weight_clipping = 0.01\n",
        "c_lambda = 10     # for gradient penalty\n",
        "batch_size = 64\n",
        "\n",
        "# get data and loader\n",
        "transform_train = transforms.Compose([\n",
        "\t# transforms.RandomHorizontalFlip(),\n",
        "\ttransforms.ToTensor(),\n",
        "\ttransforms.Normalize((0.4914, 0.4822, 0.4465), (0.2023, 0.1994, 0.2010))\n",
        "])\n",
        "\n",
        "\n",
        "trainset = DataLoader(CIFAR10(root='.', download=True, transform=transform_train), batch_size=batch_size, shuffle=True)\n",
        "trainset2 = DataLoader(CIFAR10(root='.', download=True, transform=transform_train), batch_size=batch_size, shuffle=True)\n",
        "\n",
        "\n",
        "# before training initialize weight\n",
        "def weights_init(m):\n",
        "\tif isinstance(m, nn.Conv2d) or isinstance(m, nn.ConvTranspose2d):\n",
        "\t\ttorch.nn.init.normal_(m.weight, 0.0, 0.02)\n",
        "\tif isinstance(m, nn.BatchNorm2d):\n",
        "\t\ttorch.nn.init.normal_(m.weight, 0.0, 0.02)\n",
        "\t\ttorch.nn.init.constant_(m.bias, 0)\n",
        "\t\n",
        "def weights_init_zero(m):\n",
        "\tif isinstance(m, nn.Conv2d) or isinstance(m, nn.ConvTranspose2d):\n",
        "\t\t\ttorch.nn.init.constant_(m.weight, 0.0)\n",
        "\tif isinstance(m, nn.BatchNorm2d):\n",
        "\t\t\ttorch.nn.init.constant_(m.weight, 0.0)\n",
        "\t\t\ttorch.nn.init.constant_(m.bias, 0.0)\n",
        "\n",
        "\n",
        "gen = gen.apply(weights_init)\n",
        "disc = disc.apply(weights_init)\n",
        "gen2 = gen2.apply(weights_init_zero)\n",
        "disc2 = disc2.apply(weights_init_zero)\n",
        "\n",
        "show_tensor_images(gen(make_noise(25, z_dim, device=device)))"
      ],
      "execution_count": null,
      "outputs": [
        {
          "output_type": "stream",
          "text": [
            "Downloading https://www.cs.toronto.edu/~kriz/cifar-10-python.tar.gz to ./cifar-10-python.tar.gz\n"
          ],
          "name": "stdout"
        },
        {
          "output_type": "display_data",
          "data": {
            "application/vnd.jupyter.widget-view+json": {
              "model_id": "6f9707b4f45b48c8946fa015a60d5037",
              "version_minor": 0,
              "version_major": 2
            },
            "text/plain": [
              "HBox(children=(FloatProgress(value=1.0, bar_style='info', max=1.0), HTML(value='')))"
            ]
          },
          "metadata": {
            "tags": []
          }
        },
        {
          "output_type": "stream",
          "text": [
            "Extracting ./cifar-10-python.tar.gz to .\n",
            "Files already downloaded and verified\n"
          ],
          "name": "stdout"
        },
        {
          "output_type": "stream",
          "text": [
            "Clipping input data to the valid range for imshow with RGB data ([0..1] for floats or [0..255] for integers).\n"
          ],
          "name": "stderr"
        },
        {
          "output_type": "stream",
          "text": [
            "\n"
          ],
          "name": "stdout"
        },
        {
          "output_type": "display_data",
          "data": {
            "image/png": "[encoded data removed]",
            "text/plain": [
              "<Figure size 432x288 with 1 Axes>"
            ]
          },
          "metadata": {
            "tags": [],
            "needs_background": "light"
          }
        }
      ]
    },
    {
      "cell_type": "code",
      "metadata": {
        "id": "_PLkxwtIUbyn",
        "colab": {
          "base_uri": "https://localhost:8080/",
          "height": 35
        },
        "outputId": "fc04cd48-8b47-46d6-fdbf-12456fc6dfc1"
      },
      "source": [
        "# =========================================================================== #\n",
        "#                  SET OPTIMIZERS HERE                                        #\n",
        "# =========================================================================== #\n",
        "import pytz\n",
        "from datetime import datetime\n",
        "\n",
        "# define the Adam optimizers\n",
        "gen_opt = torch.optim.Adam(gen.parameters(), lr=lr_gen, betas=(beta_1, beta_2))\n",
        "disc_opt = torch.optim.Adam(disc.parameters(), lr=lr_disc, betas=(beta_1, beta_2))\n",
        "\n",
        "# define SGD \n",
        "# gen_opt = torch.optim.SGD(gen.parameters(), lr=lr)\n",
        "# disc_opt = torch.optim.SGD(disc.parameters(), lr=lr)\n",
        "\n",
        "# =========================================================================== #\n",
        "#                  SET LOSS FUNCTIONS FOR FITTING                             #\n",
        "# =========================================================================== #\n",
        "disc_loss_fn = disc_loss_wgan_gp\n",
        "gen_loss_fn = gen_loss_wgan_gp\n",
        "\n",
        "def get_cur_timestamp():\n",
        "\ttz_NY = pytz.timezone('America/New_York')\n",
        "\tdateTimeObj = datetime.now(tz_NY)\n",
        "\treturn dateTimeObj.strftime(\"[%d-%b-%Y(%H:%M)]\")\n",
        "\n",
        "get_cur_timestamp()"
      ],
      "execution_count": null,
      "outputs": [
        {
          "output_type": "execute_result",
          "data": {
            "application/vnd.google.colaboratory.intrinsic+json": {
              "type": "string"
            },
            "text/plain": [
              "'[20-Nov-2020(11:04)]'"
            ]
          },
          "metadata": {
            "tags": []
          },
          "execution_count": 8
        }
      ]
    },
    {
      "cell_type": "code",
      "metadata": {
        "id": "eafRcvfLbnx7",
        "colab": {
          "base_uri": "https://localhost:8080/",
          "height": 100,
          "referenced_widgets": [
            "3419fac49b444029b3d08269cc13a2c5",
            "56ccd899d34e4d34913111bb85d39498",
            "becc8a285dd3406b80d4a703d4b30f0f",
            "866c0920d2114989aab5f558c30228c2",
            "ec3fd46df37d4583bad4aba8eb3e8e5b",
            "4a9024273b5c46fd918e7aaa21affd14",
            "c853eedc7e434bcf87a30c5104c8066c",
            "9805d53fb440484085f33ddc56e386fa"
          ]
        },
        "outputId": "af9aa99c-2a10-4b5b-ad67-bbbd490eb750"
      },
      "source": [
        "# =========================================================================== #\n",
        "#                  SET VALIDATION STUFF                                       #\n",
        "# =========================================================================== #\n",
        "from inception_score import inception_score\n",
        "torch.manual_seed(0)\n",
        "validation_noise = make_noise(25, z_dim, device=device)  # so we have a fixed validation noise\n",
        "torch.manual_seed(int(time.time()))  # this should be random enough for fitting\n",
        "\n",
        "\n",
        "valimg = gen(validation_noise)\n",
        "test_score = inception_score(valimg, cuda=True, batch_size=batch_size, resize=True, n_sec=1)\n",
        "# inception_score(IS_fake, cuda=True, batch_size=32, resize=True, n_sec=8)\n",
        "print(test_score)"
      ],
      "execution_count": null,
      "outputs": [
        {
          "output_type": "stream",
          "text": [
            "Downloading: \"https://download.pytorch.org/models/inception_v3_google-1a9a5a14.pth\" to /root/.cache/torch/hub/checkpoints/inception_v3_google-1a9a5a14.pth\n"
          ],
          "name": "stderr"
        },
        {
          "output_type": "display_data",
          "data": {
            "application/vnd.jupyter.widget-view+json": {
              "model_id": "3419fac49b444029b3d08269cc13a2c5",
              "version_minor": 0,
              "version_major": 2
            },
            "text/plain": [
              "HBox(children=(FloatProgress(value=0.0, max=108857766.0), HTML(value='')))"
            ]
          },
          "metadata": {
            "tags": []
          }
        },
        {
          "output_type": "stream",
          "text": [
            "\n",
            "(1.0088928011603997, 0.0)\n"
          ],
          "name": "stdout"
        }
      ]
    },
    {
      "cell_type": "markdown",
      "metadata": {
        "id": "GYrHIx4TOAaB"
      },
      "source": [
        "### FITTING"
      ]
    },
    {
      "cell_type": "code",
      "metadata": {
        "id": "X1l4q4RzbNzF",
        "colab": {
          "base_uri": "https://localhost:8080/",
          "height": 1000,
          "referenced_widgets": [
            "76241f83a84c4fc9ac40a3c605d6de27",
            "cdd1cadade3449228d7bf3baa5c89ddb",
            "d3391be00e554e08b85811a79b77cb36",
            "40c3a95359aa49d4a3f07de5369a3ac9",
            "d55765eb59f24e079c9b079e7e6c72f2",
            "e9ffa11476cc41bc990fc8874fcadd52",
            "6a7089ef22db4a66abf76bec25c4147b",
            "8def89ed4ee944c99a4908a123320440",
            "ba2a0d64c369415fbc4f095fb9ec5020",
            "5d89f956f89e44a4814f7a0b1c1c8591",
            "f6cf57d8b4714d889197b2957cddb4ae",
            "7be9b7ee7d2f4c10917da302d8dae95f",
            "13fffaea6aa44bbb8f980edf5b66bd5d",
            "1a8048ef0e5e4e838c0456d3050349a2",
            "12918c24f541427ea71a0a42736d66b4",
            "4f5161079ad846f1acfb8416305d035e"
          ]
        },
        "outputId": "97332089-7f5f-4ea5-fb9c-e2e5a83749bb"
      },
      "source": [
        "import copy\n",
        "\n",
        "# =========================================================================== #\n",
        "#                  FITTING                                                    #\n",
        "# =========================================================================== #\n",
        "display_step = 500  # for displaying info after this many step (i.e. batch)\n",
        "disc_repeats = 5  # how many times to train the discriminator per one generator\n",
        "check_point_after_epochs = 10  # checkpointing every these epochs\n",
        "n_epochs = 501\n",
        "\n",
        "\n",
        "def fit(checkpt=True, loadcheckptpath=None, checkpoint_name_tag=\"avgextraAdam.pt\"):\n",
        "\t\"\"\" fit the models gen, disc in global var\n",
        "\tCHECKPOINT_NAME_TAG specifies the naming for the checkpoint file\n",
        "\t\"\"\"\n",
        "\t# ================================================================== #\n",
        "\t#       Initialize training vars                                     #\n",
        "\t# ================================================================== #\n",
        "\tstep = 0\n",
        "\tgenerator_losses = []\n",
        "\tdisc_losses = []\n",
        "\tinception_scores = []\n",
        "\tavgmodel_inception_scores = []\n",
        "\timg_history = []\n",
        "\tavgmodel_image_history = []\n",
        "\tlast_epoch = 0\n",
        "\tgen2_losses = []\n",
        "\tdisc2_losses = []\n",
        "\n",
        "\t# ================================================================== #\n",
        "\t#               Load checkpts if any                                 #\n",
        "\t# ================================================================== #\n",
        "\tif loadcheckptpath is not None:  # we were provided with checkpt. Load and resume\n",
        "\t\tprint(f\"========= Checkpoint found! Resuming training from last checkpoint at ======== \\n{loadcheckptpath}\")\n",
        "\t\tprint(\"Loading checkpoint...\")\n",
        "\t\tcheckpoint = torch.load(loadcheckptpath)\n",
        "\t\tprint(\"Checkpoint loaded successfully! Info:\")\n",
        "\t\tlast_epoch = checkpoint['epoch'] + 1\n",
        "\t\tprint(f\"\\tLast epoch: {last_epoch - 1}\")\n",
        "\t\tdisc.load_state_dict(checkpoint['disc_state_dict'])\n",
        "\t\tgen.load_state_dict(checkpoint['gen_state_dict'])\n",
        "\t\tdisc2.load_state_dict(checkpoint['disc2_state_dict'])\n",
        "\t\tgen2.load_state_dict(checkpoint['gen2_state_dict'])\n",
        "\t\tdisc_opt.load_state_dict(checkpoint['disc_opt_state_dict'])\n",
        "\t\tgen_opt.load_state_dict(checkpoint['gen_opt_state_dict'])\n",
        "\t\tprint(f\"\\tLoaded discriminator and generator's old weight and state_dict\")\n",
        "\t\tgenerator_losses = checkpoint['generator_losses']\n",
        "\t\tdisc_losses = checkpoint['disc_losses']\n",
        "\t\tgen2_losses = checkpoint['gen2_losses']\n",
        "\t\tdisc2_losses = checkpoint['disc2_losses']\n",
        "\t\tprint(f\"\\tLoaded losses history.\")\n",
        "\t\tstep = checkpoint['step']\n",
        "\t\tprint(f\"\\tLast step: {step}\")\n",
        "\t\timg_history = checkpoint['img_history']\n",
        "\t\tinception_scores = checkpoint['inception_scores']\n",
        "\t\tavgmodel_image_history = checkpoint['avgmodel_image_history']\n",
        "\t\tavgmodel_inception_scores = checkpoint['avgmodel_inception_scores']\n",
        "\t\tprint(\"Loaded img_history and inception_scores\")\n",
        "\t\tprint(\"===================== FINISHED LOADING LAST CHECKPOINT. TRAINING ===========\")\n",
        "\telse:\n",
        "\t\tprint(\"Checkpoint not found. Below is the first image with the validation noise.\")\n",
        "\t\tfirstimg = gen(validation_noise)\n",
        "\t\tshow_tensor_images(firstimg)\n",
        "\t\timg_history += [firstimg]\n",
        "\n",
        "\t# ==================== BEGIN TRAINING ==================== #\n",
        "\tprint(\"Training with\", device)\n",
        "\tfor epoch in range(last_epoch, n_epochs):\n",
        "\t\t# make sure the models are set to training\n",
        "\t\tgen.train()\n",
        "\t\tdisc.train()\n",
        "\t\tprint(f\"EPOCH: {epoch}\")\n",
        "\t\t# Dataloader returns the batches\n",
        "\t\t# Here, we sample two batches: one for extrapolation and one for gradient computation\n",
        "\t\tfor (real1, label1), (real2, label2) in tqdm(zip(trainset, trainset2), total=len(trainset)):\n",
        "\t\t\t# tqdm is just a progress bar\n",
        "\t\t\tcur_batch_size = len(real1)\n",
        "\t\t\treal1 = real1.to(device)  # load to GPU if enabled\n",
        "\t\t\treal2 = real2.to(device)\n",
        "\n",
        "\t\t\t# ================================================================== #\n",
        "\t\t\t#                      EXTRAPOLATED STEP                             #\n",
        "\t\t\t# ================================================================== #\n",
        "\t\t\t# We save the original weights for later update\n",
        "\t\t\tdisc_saved_state = copy.deepcopy(disc.state_dict())\n",
        "\t\t\tdiscopt_saved_state = copy.deepcopy(disc_opt.state_dict())\n",
        "\t\t\tgen_saved_state = copy.deepcopy(gen.state_dict())\n",
        "\t\t\tgenopt_saved_state = copy.deepcopy(gen_opt.state_dict())\n",
        "\n",
        "\t\t\t# ===== First, we compute the extrapolation weights to compute the gradients on using the curr. weights ====\n",
        "\t\t\t# first zero out the grad\n",
        "\t\t\tdisc_opt.zero_grad()\n",
        "\t\t\t# now compute the loss\n",
        "\t\t\t# first, we generate fake images and compute the loss based on the given loss fn\n",
        "\t\t\tnoise = make_noise(cur_batch_size, z_dim, device=device)\n",
        "\t\t\tfake1 = gen(noise)\n",
        "\t\t\t# compute the loss (loss fn set above)\n",
        "\t\t\tdisc_loss = disc_loss_fn(disc, real1, fake1, device, c_lambda)\n",
        "\t\t\t# Get gradients\n",
        "\t\t\tdisc_loss.backward(retain_graph=True)\n",
        "\n",
        "\t\t\t# Load the extrapolated weights into our discriminator\n",
        "\t\t\tdisc_opt.step()\n",
        "\n",
        "\t\t\t# ===== now, we do the same for the generator =====\n",
        "\t\t\t# first zero out the gradients\n",
        "\t\t\tgen_opt.zero_grad()\n",
        "\t\t\t# then generate some fake images\n",
        "\t\t\tmorenoise = make_noise(cur_batch_size, z_dim, device=device)\n",
        "\t\t\tfake2 = gen(morenoise)\n",
        "\t\t\t# compute the scores and losses\n",
        "\t\t\tfake_score = disc(fake2)\n",
        "\t\t\tgen_loss = gen_loss_fn(fake_score)\n",
        "\t\t\t# compute the gradients\n",
        "\t\t\tgen_loss.backward()\n",
        "\n",
        "\t\t\t# Load the extrapolated weights into our discriminator generator. Must recover later with the saved states\n",
        "\t\t\tgen_opt.step()\n",
        "\n",
        "\t\t\t# ================================================================== #\n",
        "\t\t\t#       Obtain the extrapolated gradients for discriminator          #\n",
        "\t\t\t# ================================================================== #\n",
        "\t\t\t# we do it again but with the second mini batch and the extrapolated weights now\n",
        "\t\t\t# first zero out the grad\n",
        "\t\t\tdisc_opt.zero_grad()\n",
        "\t\t\t# generate fake images again and compute the loss based on the given loss fn\n",
        "\t\t\tnoise = make_noise(cur_batch_size, z_dim, device=device)\n",
        "\t\t\tfake = gen(noise)\n",
        "\t\t\t# compute the loss on the second batch (real2) and the extrapolated weight now\n",
        "\t\t\tdisc_loss = disc_loss_fn(disc, real2, fake, device, c_lambda)\n",
        "\t\t\t# compute the gradient\n",
        "\t\t\tdisc_loss.backward(retain_graph=True)\n",
        "\t\t\t# now the gradients is stored in the .grad of the parameters in this extrapolated disc\n",
        "\t\t\t# we set the just the weights back to before to optimize\n",
        "\t\t\tdisc_opt.load_state_dict(discopt_saved_state)  # more sneaky move\n",
        "\t\t\tfor name, p in disc.named_parameters():\n",
        "\t\t\t\tp.data = disc_saved_state[name].data  # sneaky move\n",
        "\t\t\t# add the loss to loss history\n",
        "\t\t\tdisc_losses += [disc_loss.item()]\n",
        "\t\t\tdisc_opt.step()\n",
        "\n",
        "\t\t\t# ================================================================== #\n",
        "\t\t\t#       Obtain the extrapolated gradients for generator              #\n",
        "\t\t\t# ================================================================== #\n",
        "\t\t\t# first zero out the gradients\n",
        "\t\t\tgen_opt.zero_grad()\n",
        "\t\t\t# then generate some fake images\n",
        "\t\t\tmorenoise = make_noise(cur_batch_size, z_dim, device=device)\n",
        "\t\t\tfake = gen(morenoise)\n",
        "\t\t\t# compute the scores and losses\n",
        "\t\t\tfake_score = disc(fake)\n",
        "\t\t\tgen_loss = gen_loss_fn(fake_score)\n",
        "\t\t\t# compute the gradients on the extrapolated weights\n",
        "\t\t\tgen_loss.backward()\n",
        "\t\t\t# now the gradients is stored in the .grad of the parameters in this extrapolated disc\n",
        "\t\t\t# we set the just the weights back to before to optimize\n",
        "\t\t\tgen_opt.load_state_dict(genopt_saved_state)  # more sneaky move\n",
        "\t\t\tfor name, p in gen.named_parameters():\n",
        "\t\t\t\tp.data = gen_saved_state[name].data  # sneaky move\n",
        "\t\t\t# Keep track of the generator loss\n",
        "\t\t\tgenerator_losses += [gen_loss.item()]\n",
        "\t\t\tgen_opt.step()  # sneaky move gets run here\n",
        "\n",
        "\t\t\tstep += 1\n",
        "\n",
        "\t\t\t# ================================================================== #\n",
        "\t\t\t#                               Average                              #\n",
        "\t\t\t# ================================================================== #\n",
        "\t\t\t# compute the loss for the averaged disc\n",
        "\t\t\tnoise = make_noise(cur_batch_size, z_dim, device=device)\n",
        "\t\t\tfake = gen2(noise)\n",
        "\t\t\tdisc2_loss = disc_loss_fn(disc2, real1, fake, device, c_lambda)\n",
        "\t\t\tdisc2_losses += [disc2_loss.item()]\n",
        "\t\t\tfake_score = disc2(fake)\n",
        "\t\t\tgen2_loss = gen_loss_fn(fake_score)\n",
        "\t\t\tgen2_losses += [gen2_loss.item()]\n",
        "\n",
        "\t\t\t# update the avg weights\n",
        "\t\t\twith torch.no_grad():\n",
        "\t\t\t\tfor name, p in disc.named_parameters():\n",
        "\t\t\t\t\tq = disc2.state_dict()[name]\n",
        "\t\t\t\t\tq = ((step - 1) * q + p) / step\n",
        "\t\t\t\t\tnew_state_dict = {name: q}\n",
        "\t\t\t\t\tdisc2.load_state_dict(new_state_dict, strict=False)\n",
        "\n",
        "\t\t\twith torch.no_grad():\n",
        "\t\t\t\tfor name, p in gen.named_parameters():\n",
        "\t\t\t\t\tq = gen2.state_dict()[name]\n",
        "\t\t\t\t\tq = ((step - 1) * q + p) / step\n",
        "\t\t\t\t\tnew_state_dict = {name: q}\n",
        "\t\t\t\t\tgen2.load_state_dict(new_state_dict, strict=False)\n",
        "\n",
        "\t\t# ================================================================== #\n",
        "\t\t#                       Validation                                   #\n",
        "\t\t# ================================================================== #\n",
        "\t\tgen.eval()\n",
        "\t\tdisc.eval()\n",
        "\t\tprint(f\"================= VALIDATION for EPOCH {epoch}==================\")\n",
        "\t\tprint(\"-Overall losses:\")\n",
        "\t\t# plot total losses after each epoch\n",
        "\t\tplt.plot(\n",
        "\t\t\t# range(num_examples // step_bins),\n",
        "\t\t\t# torch.Tensor(generator_losses[:num_examples]).view(-1, step_bins).mean(1),\n",
        "\t\t\trange(len(generator_losses)),\n",
        "\t\t\tgenerator_losses,\n",
        "\t\t\tlabel=\"Generator Loss\"\n",
        "\t\t)\n",
        "\t\tplt.plot(\n",
        "\t\t\t# range(num_examples // step_bins),\n",
        "\t\t\t# torch.Tensor(disc_losses[:num_examples]).view(-1, step_bins).mean(1),\n",
        "\t\t\trange(len(disc_losses)),\n",
        "\t\t\tdisc_losses,\n",
        "\t\t\tlabel=\"Discriminator Loss\"\n",
        "\t\t)\n",
        "\t\t# plot the avg weight models' losses\n",
        "\t\tplt.plot(\n",
        "\t\t\t# range(num_examples // step_bins),\n",
        "\t\t\t# torch.Tensor(generator_losses[:num_examples]).view(-1, step_bins).mean(1),\n",
        "\t\t\trange(len(gen2_losses)),\n",
        "\t\t\tgen2_losses,\n",
        "\t\t\tlabel=\"Avg Weight Generator Loss\"\n",
        "\t\t)\n",
        "\t\tplt.plot(\n",
        "\t\t\t# range(num_examples // step_bins),\n",
        "\t\t\t# torch.Tensor(disc_losses[:num_examples]).view(-1, step_bins).mean(1),\n",
        "\t\t\trange(len(disc2_losses)),\n",
        "\t\t\tdisc2_losses,\n",
        "\t\t\tlabel=\"Avg Weight Discriminator Loss\"\n",
        "\t\t)\n",
        "\t\tplt.ylabel('loss')\n",
        "\t\tplt.xlabel('number of batches processed')\n",
        "\t\tplt.title('Loss over numbatches for discriminator and generator')\n",
        "\t\tplt.legend()\n",
        "\t\tplt.show()\n",
        "\n",
        "\t\tprint(\"Showing Validation Images\")\n",
        "\t\tvalimg = gen(validation_noise)\n",
        "\t\tavgmodel_valimg = gen2(validation_noise)\n",
        "\t\tif epoch %2 == 0:\n",
        "\t\t\tprint(\"Without averaging\")\n",
        "\t\t\tshow_tensor_images(valimg, unnorm_mean = (0.4914, 0.4822, 0.4465), unnorm_var=(0.2023, 0.1994, 0.2010))\n",
        "\t\telse:\n",
        "\t\t\tprint(\"With averaging\")\n",
        "\t\t\tshow_tensor_images(avgmodel_valimg, unnorm_mean = (0.4914, 0.4822, 0.4465), unnorm_var=(0.2023, 0.1994, 0.2010))\n",
        "\t\timg_history += [valimg]\n",
        "\t\tavgmodel_image_history += [avgmodel_valimg]\n",
        "\t\t# print(\"Showing Images Generated by Random Input\")\n",
        "\t\t# show_tensor_images(gen(make_noise(25, z_dim, device=device)))\n",
        "\n",
        "\t\t# === We validate our progress by measuring inception score on \"validation noise\" that we fixed in the beginning =====\n",
        "\t\tincept_score = inception_score(valimg, cuda=True, batch_size=batch_size, resize=True, n_sec=1)[0]\n",
        "\t\tavgmodel_incept_score = inception_score(avgmodel_valimg, cuda=True, batch_size=batch_size, resize=True, n_sec=1)[0]\n",
        "\t\tinception_scores.append(incept_score)\n",
        "\t\tavgmodel_inception_scores.append(avgmodel_incept_score)\n",
        "\t\tplt.plot(\n",
        "\t\t\trange(len(inception_scores)),\n",
        "\t\t\tinception_scores,\n",
        "\t\t\tlabel=\"No Averaging\"\n",
        "\t\t)\n",
        "\t\tplt.plot(\n",
        "\t\t\trange(len(avgmodel_inception_scores)),\n",
        "\t\t\tavgmodel_inception_scores,\n",
        "\t\t\tlabel=\"With Averaging\"\n",
        "\t\t)\n",
        "\t\tplt.xlabel(\"Epoch\")\n",
        "\t\tplt.ylabel(\"Inception Score\")\n",
        "\t\tplt.title(\"Inception Scores over Epochs\")\n",
        "\t\tplt.legend()\n",
        "\t\tplt.show()\n",
        "\n",
        "\t\t# ================================================================== #\n",
        "\t\t#                      Check-pointing                                #\n",
        "\t\t# ================================================================== #\n",
        "\n",
        "\t\tif checkpt and epoch % check_point_after_epochs == 0 and epoch > 0:\n",
        "\t\t\ttimestamp = get_cur_timestamp()\n",
        "\t\t\tcheckpt_file_path = CHECKPOINT_PATH + timestamp + str(epoch) + checkpoint_name_tag \n",
        "\t\t\tprint(f\"*** EPOCH {epoch} SAVING CHECKPOINTS AT {checkpt_file_path} ***\")\n",
        "\t\t\tsave_dict = {\n",
        "\t\t\t\t'epoch': epoch,\n",
        "\t\t\t\t'disc_state_dict': disc.state_dict(),\n",
        "\t\t\t\t'gen_state_dict': gen.state_dict(),\n",
        "\t\t\t\t'disc2_state_dict': disc2.state_dict(),\n",
        "\t\t\t\t'gen2_state_dict': gen2.state_dict(),\n",
        "\t\t\t\t'disc_opt_state_dict': disc_opt.state_dict(),\n",
        "\t\t\t\t'gen_opt_state_dict': gen_opt.state_dict(),\n",
        "\t\t\t\t'generator_losses': generator_losses,\n",
        "\t\t\t\t'disc_losses': disc_losses,\n",
        "\t\t\t\t'gen2_losses': gen2_losses,\n",
        "\t\t\t\t'disc2_losses': disc2_losses,\n",
        "\t\t\t\t'step': step,\n",
        "\t\t\t\t'img_history': img_history,\n",
        "\t\t\t\t'inception_scores': inception_scores,\n",
        "\t\t\t\t'avgmodel_image_history': avgmodel_image_history,\n",
        "\t\t\t\t'avgmodel_inception_scores': avgmodel_inception_scores\n",
        "\t\t\t}\n",
        "\t\t\ttorch.save(save_dict, checkpt_file_path)\n",
        "\n",
        "\n",
        "# FIT WITHOUT CHECKPOINTS ####\n",
        "fit(checkpt=True, loadcheckptpath=CHECKPOINTFILEPATH ,checkpoint_name_tag=\"avgextraAdam.pt\")"
      ],
      "execution_count": null,
      "outputs": [
        {
          "output_type": "stream",
          "text": [
            "========= Checkpoint found! Resuming training from last checkpoint at ======== \n",
            "/content/drive/My Drive/cs6140/gan_avgdam_norm_checkpt/[19-Nov-2020(20:27)]110avgextraAdam.pt\n",
            "Loading checkpoint...\n",
            "Checkpoint loaded successfully! Info:\n",
            "\tLast epoch: 110\n",
            "\tLoaded discriminator and generator's old weight and state_dict\n",
            "\tLoaded losses history.\n",
            "\tLast step: 86802\n",
            "Loaded img_history and inception_scores\n",
            "===================== FINISHED LOADING LAST CHECKPOINT. TRAINING ===========\n",
            "Training with cuda\n",
            "EPOCH: 111\n"
          ],
          "name": "stdout"
        },
        {
          "output_type": "display_data",
          "data": {
            "application/vnd.jupyter.widget-view+json": {
              "model_id": "76241f83a84c4fc9ac40a3c605d6de27",
              "version_minor": 0,
              "version_major": 2
            },
            "text/plain": [
              "HBox(children=(FloatProgress(value=0.0, max=782.0), HTML(value='')))"
            ]
          },
          "metadata": {
            "tags": []
          }
        },
        {
          "output_type": "stream",
          "text": [
            "\n",
            "================= VALIDATION for EPOCH 111==================\n",
            "-Overall losses:\n"
          ],
          "name": "stdout"
        },
        {
          "output_type": "display_data",
          "data": {
            "image/png": "[encoded data removed]",
            "text/plain": [
              "<Figure size 432x288 with 1 Axes>"
            ]
          },
          "metadata": {
            "tags": [],
            "needs_background": "light"
          }
        },
        {
          "output_type": "stream",
          "text": [
            "Showing Validation Images\n",
            "With averaging\n"
          ],
          "name": "stdout"
        },
        {
          "output_type": "display_data",
          "data": {
            "image/png": "[encoded data removed]",
            "text/plain": [
              "<Figure size 432x288 with 1 Axes>"
            ]
          },
          "metadata": {
            "tags": [],
            "needs_background": "light"
          }
        },
        {
          "output_type": "display_data",
          "data": {
            "image/png": "[encoded data removed]",
            "text/plain": [
              "<Figure size 432x288 with 1 Axes>"
            ]
          },
          "metadata": {
            "tags": [],
            "needs_background": "light"
          }
        },
        {
          "output_type": "stream",
          "text": [
            "EPOCH: 112\n"
          ],
          "name": "stdout"
        },
        {
          "output_type": "display_data",
          "data": {
            "application/vnd.jupyter.widget-view+json": {
              "model_id": "ba2a0d64c369415fbc4f095fb9ec5020",
              "version_minor": 0,
              "version_major": 2
            },
            "text/plain": [
              "HBox(children=(FloatProgress(value=0.0, max=782.0), HTML(value='')))"
            ]
          },
          "metadata": {
            "tags": []
          }
        }
      ]
    },
    {
      "cell_type": "code",
      "metadata": {
        "id": "sYGuPZ8WN9Om",
        "colab": {
          "base_uri": "https://localhost:8080/"
        },
        "outputId": "3b386125-85d1-4718-b036-0f9b9ce2ba55"
      },
      "source": [
        "loadcheckptpath=CHECKPOINTFILEPATH\n",
        "\n",
        "print(f\"========= Checkpoint found! Loading Checkpoint ======== \\n{loadcheckptpath}\")\n",
        "print(\"Loading checkpoint...\")\n",
        "checkpoint = torch.load(loadcheckptpath)\n",
        "print(\"Checkpoint loaded successfully! Info:\")\n",
        "last_epoch = checkpoint['epoch'] + 1\n",
        "print(f\"\\tLast epoch: {last_epoch - 1}\")\n",
        "disc.load_state_dict(checkpoint['disc_state_dict'])\n",
        "gen.load_state_dict(checkpoint['gen_state_dict'])\n",
        "disc2.load_state_dict(checkpoint['disc2_state_dict'])\n",
        "gen2.load_state_dict(checkpoint['gen2_state_dict'])\n",
        "print(f\"\\tLoaded discriminator and generator's old weight and state_dict\")\n",
        "generator_losses = checkpoint['generator_losses']\n",
        "disc_losses = checkpoint['disc_losses']\n",
        "gen2_losses = checkpoint['gen2_losses']\n",
        "disc2_losses = checkpoint['disc2_losses']\n",
        "print(f\"\\tLoaded losses history.\")\n",
        "step = checkpoint['step']\n",
        "print(f\"\\tLast step: {step}\")\n",
        "img_history = checkpoint['img_history']\n",
        "inception_scores = checkpoint['inception_scores']\n",
        "avgmodel_image_history = checkpoint['avgmodel_image_history']\n",
        "avgmodel_inception_scores = checkpoint['avgmodel_inception_scores']\n",
        "print(\"Loaded img_history and inception_scores\")"
      ],
      "execution_count": null,
      "outputs": [
        {
          "output_type": "stream",
          "text": [
            "========= Checkpoint found! Loading Checkpoint ======== \n",
            "/content/drive/My Drive/cs6140/gan_train_checkpt/[17-Nov-2020(19:01)]500avgextraAdam.pt\n",
            "Loading checkpoint...\n",
            "Checkpoint loaded successfully! Info:\n",
            "\tLast epoch: 500\n",
            "\tLoaded discriminator and generator's old weight and state_dict\n",
            "\tLoaded losses history.\n",
            "\tLast step: 391782\n",
            "Loaded img_history and inception_scores\n"
          ],
          "name": "stdout"
        }
      ]
    },
    {
      "cell_type": "code",
      "metadata": {
        "id": "viAQsBtWAVVp"
      },
      "source": [
        ""
      ],
      "execution_count": null,
      "outputs": []
    },
    {
      "cell_type": "markdown",
      "metadata": {
        "id": "K8smSN7KrNAo"
      },
      "source": [
        "# Evaluation"
      ]
    },
    {
      "cell_type": "markdown",
      "metadata": {
        "id": "owpmCeTFxlUc"
      },
      "source": [
        "## Inception Score"
      ]
    },
    {
      "cell_type": "markdown",
      "metadata": {
        "id": "wu3yEhkhyXqV"
      },
      "source": [
        "### Define Inception Score"
      ]
    },
    {
      "cell_type": "code",
      "metadata": {
        "id": "mXushhx5xzO6"
      },
      "source": [
        "# get inception score for p(y|x)\n",
        "# p_yx => p(y|x), where p_yx[y][x] = p(y|x)\n",
        "# eps is  arbitrarily small non-zero value\n",
        "import torchvision \n",
        "import numpy as np\n",
        "\n",
        "def getIS(p_yx, eps=(1E-16)):\n",
        "    # p(y) by averaging over x\n",
        "    p_y = p_yx.mean(axis=0)\n",
        "    p_y = np.expand_dims(p_y,0)                           # make dimensions of p_yx and p_y compatible\n",
        "    # KL-divergence for each x\n",
        "    KL = p_yx * (np.log(p_yx + eps) - np.log(p_y + eps))  # use eps to deal with possible zeros\n",
        "    # sum KL divergences over classes, and average over images\n",
        "    KLsum = KL.sum(axis=1)\n",
        "    KLavg = np.mean(KLsum)\n",
        "    is_score = np.exp(KLavg)                              # undo the logs\n",
        "    return is_score\n",
        "\n",
        "# data is the set of images\n",
        "def inception_score(data, cuda=False, batch_size=32, resize=False, n_sec=1, eps=1E-16, print_tag=False):\n",
        "    N = len(data)\n",
        "    # Set up CUDA option\n",
        "    if cuda:\n",
        "        dtype = torch.cuda.FloatTensor\n",
        "    else:\n",
        "        if torch.cuda.is_available():\n",
        "            print(\"You should use cuda=True, you can do it!\")\n",
        "        dtype = torch.FloatTensor\n",
        "    # set up data loader\n",
        "    loader = torch.utils.data.DataLoader(data, batch_size=batch_size)\n",
        "    # set up Inception V3 model\n",
        "    model = torchvision.models.inception_v3(pretrained=True, transform_input=False).type(dtype)\n",
        "    model.eval()\n",
        "    up = torch.nn.Upsample(size=(299,299), mode='bilinear', align_corners=False).type(dtype)\n",
        "\n",
        "    # helpful prediction function\n",
        "    def predict(x):\n",
        "        if resize:\n",
        "            x = up(x)\n",
        "        x = model(x)\n",
        "        return torch.nn.functional.softmax(x, dim=1).data.cpu().numpy()\n",
        "\n",
        "    # Do predictions\n",
        "    all_pyx = np.zeros((N,1000))\n",
        "    for i, batch in enumerate(loader, 0):\n",
        "        if print_tag:\n",
        "            print(\"Batch \" + str(i))\n",
        "        batch = batch.type(dtype)\n",
        "        batchv = torch.autograd.Variable(batch)\n",
        "        batch_size_i = batch.size()[0]\n",
        "        if print_tag:\n",
        "            print(\"Built batch\")\n",
        "        # actual prediction:                  Use batch_size_i to handle uneven batch\n",
        "        all_pyx[i*batch_size:i * batch_size + batch_size_i] = predict(batchv)\n",
        "        if print_tag:\n",
        "            print(\"Predicted batch\")\n",
        "\n",
        "    # Split and compute scores\n",
        "    sec_scores = []\n",
        "\n",
        "    for i in range(n_sec):\n",
        "        if print_tag:\n",
        "            print(\"Section \" + str(i))\n",
        "        sec = all_pyx[i * (N // n_sec):(i+1) * (N // n_sec), :]\n",
        "        sec_scores.append(getIS(sec, eps))\n",
        "\n",
        "    return np.mean(sec_scores), np.std(sec_scores)"
      ],
      "execution_count": null,
      "outputs": []
    },
    {
      "cell_type": "markdown",
      "metadata": {
        "id": "GjO55KKhyeCW"
      },
      "source": [
        "### Get inception score from generator"
      ]
    },
    {
      "cell_type": "code",
      "metadata": {
        "id": "M36CywQGyU5n",
        "colab": {
          "base_uri": "https://localhost:8080/"
        },
        "outputId": "8ed79bd1-0e69-4ef9-c355-9ada32915bc3"
      },
      "source": [
        "IS_SAMPLE_SIZE = 1024\n",
        "\n",
        "# First, generator random sample\n",
        "IS_noise = make_noise(IS_SAMPLE_SIZE, z_dim, device=device)\n",
        "IS_fake = gen(IS_noise)\n",
        "\n",
        "# Then, evaluate\n",
        "if torch.cuda.is_available():\n",
        "  IS = inception_score(IS_fake, cuda=True, batch_size=32, resize=True, n_sec=8)\n",
        "else:\n",
        "  IS = inception_score(IS_fake, cuda=False, batch_size=32, resize=True, n_sec=8)\n",
        "\n",
        "print(IS)"
      ],
      "execution_count": null,
      "outputs": [
        {
          "output_type": "stream",
          "text": [
            "(1.4350234636957508, 0.07838033140690355)\n"
          ],
          "name": "stdout"
        }
      ]
    },
    {
      "cell_type": "markdown",
      "metadata": {
        "id": "9TgK1RFF_fCJ"
      },
      "source": [
        "## Frechet Inception Distance (to CIFAR-10)"
      ]
    },
    {
      "cell_type": "markdown",
      "metadata": {
        "id": "RG7vZNKu_fCP"
      },
      "source": [
        "### Define FID"
      ]
    },
    {
      "cell_type": "code",
      "metadata": {
        "id": "CZhaf5qZ_fCV"
      },
      "source": [
        "from torch.utils.data import RandomSampler\n",
        "from scipy.linalg import sqrtm\n",
        "\n",
        "class IgnoreLabelDataset(torch.utils.data.Dataset):\n",
        "    def __init__(self, orig):\n",
        "        self.orig = orig\n",
        "\n",
        "    def __getitem__(self, index):\n",
        "        return self.orig[index][0]\n",
        "\n",
        "    def __len__(self):\n",
        "        return len(self.orig)\n",
        "\n",
        "def get_FID(data1, data2):\n",
        "    # calculate data set statistics\n",
        "    mu1, sigma1 = data1.mean(axis=0), np.cov(data1, rowvar=False)\n",
        "    mu2, sigma2 = data2.mean(axis=0), np.cov(data2, rowvar=False)\n",
        "    sqsumdiff = np.sum((mu1 - mu2) ** 2.0)\n",
        "    covm = sqrtm(sigma1.dot(sigma2))\n",
        "    # check and correct imaginary numbers from sqrt\n",
        "    if np.iscomplexobj(covm):\n",
        "        covm = covm.real\n",
        "    # calculate score\n",
        "    fid = sqsumdiff + np.trace(sigma1 + sigma2 - 2.0 * covm)\n",
        "    return fid\n",
        "\n",
        "# data is the set of images\n",
        "def frechet_inception_distance(data1, data2, cuda=False, batch_size=32, resize=False, print_tag=False):\n",
        "    N1 = len(data1)\n",
        "    N2 = len(data2)\n",
        "    # Set up CUDA option\n",
        "    if cuda:\n",
        "        dtype = torch.cuda.FloatTensor\n",
        "    else:\n",
        "        if torch.cuda.is_available():\n",
        "            print(\"You should use cuda=True, you can do it!\")\n",
        "        dtype = torch.FloatTensor\n",
        "    # set up data loader\n",
        "    loader1 = torch.utils.data.DataLoader(data1, batch_size=batch_size)\n",
        "    loader2 = torch.utils.data.DataLoader(data2, batch_size=batch_size)\n",
        "    # set up Inception V3 model\n",
        "    model = torchvision.models.inception_v3(pretrained=True, transform_input=False).type(dtype)\n",
        "    model.eval()\n",
        "    up = torch.nn.Upsample(size=(299,299), mode='bilinear', align_corners=False).type(dtype)\n",
        "\n",
        "    # helpful prediction function\n",
        "    def predict(x):\n",
        "        if resize:\n",
        "            x = up(x)\n",
        "        x = model(x)\n",
        "        return torch.nn.functional.softmax(x).data.cpu().numpy()\n",
        "\n",
        "    # Do predictions\n",
        "    all_pyx1 = np.zeros((N1,1000))\n",
        "    for i, batch in enumerate(loader1, 0):\n",
        "        if print_tag:\n",
        "            print(\"Batch \" + str(i))\n",
        "        batch = batch.type(dtype)\n",
        "        batchv = torch.autograd.Variable(batch)\n",
        "        batch_size_i = batch.size()[0]\n",
        "        if print_tag:\n",
        "            print(\"Built batch\")\n",
        "        # actual prediction:                  Use batch_size_i to handle uneven batch\n",
        "        all_pyx1[i*batch_size:i * batch_size + batch_size_i] = predict(batchv)\n",
        "        if print_tag:\n",
        "            print(\"Predicted batch\")\n",
        "    all_pyx2 = np.zeros((N2,1000))\n",
        "    for i, batch in enumerate(loader2, 0):\n",
        "        if print_tag:\n",
        "            print(\"Batch \" + str(i))\n",
        "        batch = batch.type(dtype)\n",
        "        batchv = torch.autograd.Variable(batch)\n",
        "        batch_size_i = batch.size()[0]\n",
        "        if print_tag:\n",
        "            print(\"Built batch\")\n",
        "        # actual prediction:                  Use batch_size_i to handle uneven batch\n",
        "        all_pyx2[i*batch_size:i * batch_size + batch_size_i] = predict(batchv)\n",
        "        if print_tag:\n",
        "            print(\"Predicted batch\")\n",
        "\n",
        "    return get_FID(all_pyx1, all_pyx2)"
      ],
      "execution_count": null,
      "outputs": []
    },
    {
      "cell_type": "markdown",
      "metadata": {
        "id": "P7q-AOCx_fCX"
      },
      "source": [
        "### Get FID from generator and sample"
      ]
    },
    {
      "cell_type": "code",
      "metadata": {
        "id": "u-fAY3o0_fCY",
        "colab": {
          "base_uri": "https://localhost:8080/"
        },
        "outputId": "20d5ab5f-2144-4af5-e5c8-b0a57a79985e"
      },
      "source": [
        "FID_SAMPLE_SIZE = 1024\n",
        "\n",
        "# First, generator random sample\n",
        "FID_noise = make_noise(FID_SAMPLE_SIZE, z_dim, device=device)\n",
        "FID_fake = gen(FID_noise)\n",
        "\n",
        "# Second, \"true\" sample (e.g. from CIFAR-10)\n",
        "cifar_data = CIFAR10(root='.', download=True, \n",
        "                     transform=torchvision.transforms.Compose([\n",
        "                                torchvision.transforms.Resize(32),\n",
        "                                torchvision.transforms.ToTensor(),\n",
        "                                torchvision.transforms.Normalize((0.5, 0.5, 0.5), (0.5, 0.5, 0.5))]))\n",
        "FID_real = IgnoreLabelDataset(\n",
        "    random_split(cifar_data,\n",
        "                 [FID_SAMPLE_SIZE, len(cifar_data) - FID_SAMPLE_SIZE])[0])\n",
        "\n",
        "# Then, evaluate\n",
        "if torch.cuda.is_available():\n",
        "  FID = frechet_inception_distance(FID_fake, FID_real,\n",
        "                                   cuda=True, batch_size=32, resize=True)\n",
        "else:\n",
        "  FID = frechet_inception_distance(FID_fake, FID_real,\n",
        "                                   cuda=False, batch_size=32, resize=True)\n",
        "print(FID)"
      ],
      "execution_count": null,
      "outputs": [
        {
          "output_type": "stream",
          "text": [
            "Files already downloaded and verified\n"
          ],
          "name": "stdout"
        },
        {
          "output_type": "stream",
          "text": [
            "/usr/local/lib/python3.6/dist-packages/ipykernel_launcher.py:51: UserWarning: Implicit dimension choice for softmax has been deprecated. Change the call to include dim=X as an argument.\n"
          ],
          "name": "stderr"
        },
        {
          "output_type": "stream",
          "text": [
            "0.21561745921523043\n"
          ],
          "name": "stdout"
        }
      ]
    },
    {
      "cell_type": "markdown",
      "metadata": {
        "id": "DZE6VNhuZsSY"
      },
      "source": [
        "# Saving Model"
      ]
    },
    {
      "cell_type": "code",
      "metadata": {
        "id": "puWG4YHzfZG5"
      },
      "source": [
        "# ================= #\n",
        "#  SAVE MODEL...    #\n",
        "# ================= #\n",
        "def save_model():\n",
        "  DISC_PATH = SAVE_MODEL_PATH + 'disc_weight.pth'\n",
        "  torch.save(disc.state_dict(), DISC_PATH)\n",
        "  GEN_PATH = SAVE_MODEL_PATH + 'gen_weight.pth'\n",
        "  torch.save(gen.state_dict(), GEN_PATH)\n",
        "\n",
        "save_model()\n"
      ],
      "execution_count": null,
      "outputs": []
    },
    {
      "cell_type": "code",
      "metadata": {
        "id": "RvCuJqMiGh1v"
      },
      "source": [
        ""
      ],
      "execution_count": null,
      "outputs": []
    },
    {
      "cell_type": "code",
      "metadata": {
        "id": "v5YRLHmeFlxw"
      },
      "source": [
        ""
      ],
      "execution_count": null,
      "outputs": []
    }
  ]
}